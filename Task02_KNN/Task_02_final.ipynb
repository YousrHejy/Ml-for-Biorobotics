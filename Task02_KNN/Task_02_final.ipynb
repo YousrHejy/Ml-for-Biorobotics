{
 "cells": [
  {
   "cell_type": "markdown",
   "id": "f0188515",
   "metadata": {},
   "source": [
    "## `Team members:` \n",
    "- **Arwa Essam**\n",
    "- **Rahma Abdelkader**\n",
    "- **Yousr Ashraf**"
   ]
  },
  {
   "cell_type": "markdown",
   "id": "b9019e2c",
   "metadata": {},
   "source": [
    "## `Columns Details:` \n",
    "- **ID**\n",
    "- **Raduis**\n",
    "- **Texture**:\n",
    "- **Perimeter**\n",
    "- **Area**\n",
    "- **Smoothness**\n",
    "- **diagnosis_result**\n",
    "- **Symmetry**\n",
    "- **Fractal dimension**"
   ]
  },
  {
   "cell_type": "markdown",
   "id": "c7bacfd5",
   "metadata": {},
   "source": [
    "## `Steps to follow:`\n",
    "- 1- **Identifying the problem**\n",
    "- 2- **Data preparing/preprocessing (if needed)**\n",
    "- 3- **EDA for more data understanding**\n",
    "- 4- **KNN and raduis neighbour using SKlearn**\n",
    "- 5- **KNN and raduis neighbour from scratch**\n",
    "- 6- **modeling evaluation**"
   ]
  },
  {
   "cell_type": "markdown",
   "id": "47753bb7",
   "metadata": {},
   "source": [
    "## `First: identifying problem`\n",
    "- The main problem that we aim to predict whether this patient has a maligne or benigne tumor \n",
    "based on some features related to tumor"
   ]
  },
  {
   "cell_type": "code",
   "execution_count": 1,
   "id": "1703d493",
   "metadata": {},
   "outputs": [],
   "source": [
    "# importing needed libraries\n",
    "import numpy as np\n",
    "import pandas as pd\n",
    "import seaborn as sns\n",
    "import matplotlib.pyplot as plt\n",
    "from scipy.stats import mode\n",
    "from scipy.stats import norm\n",
    "from sklearn.model_selection import train_test_split\n",
    "from sklearn.preprocessing import LabelEncoder\n",
    "from sklearn.preprocessing import StandardScaler\n",
    "from sklearn.metrics import r2_score, mean_squared_error\n",
    "from prettytable import PrettyTable\n",
    "import warnings\n",
    "warnings.filterwarnings(\"ignore\")"
   ]
  },
  {
   "cell_type": "code",
   "execution_count": 2,
   "id": "aef120ad",
   "metadata": {},
   "outputs": [
    {
     "data": {
      "text/html": [
       "<div>\n",
       "<style scoped>\n",
       "    .dataframe tbody tr th:only-of-type {\n",
       "        vertical-align: middle;\n",
       "    }\n",
       "\n",
       "    .dataframe tbody tr th {\n",
       "        vertical-align: top;\n",
       "    }\n",
       "\n",
       "    .dataframe thead th {\n",
       "        text-align: right;\n",
       "    }\n",
       "</style>\n",
       "<table border=\"1\" class=\"dataframe\">\n",
       "  <thead>\n",
       "    <tr style=\"text-align: right;\">\n",
       "      <th></th>\n",
       "      <th>id</th>\n",
       "      <th>diagnosis_result</th>\n",
       "      <th>radius</th>\n",
       "      <th>texture</th>\n",
       "      <th>perimeter</th>\n",
       "      <th>area</th>\n",
       "      <th>smoothness</th>\n",
       "      <th>compactness</th>\n",
       "      <th>symmetry</th>\n",
       "      <th>fractal_dimension</th>\n",
       "    </tr>\n",
       "  </thead>\n",
       "  <tbody>\n",
       "    <tr>\n",
       "      <th>0</th>\n",
       "      <td>1</td>\n",
       "      <td>M</td>\n",
       "      <td>23</td>\n",
       "      <td>12</td>\n",
       "      <td>151</td>\n",
       "      <td>954</td>\n",
       "      <td>0.143</td>\n",
       "      <td>0.278</td>\n",
       "      <td>0.242</td>\n",
       "      <td>0.079</td>\n",
       "    </tr>\n",
       "    <tr>\n",
       "      <th>1</th>\n",
       "      <td>2</td>\n",
       "      <td>B</td>\n",
       "      <td>9</td>\n",
       "      <td>13</td>\n",
       "      <td>133</td>\n",
       "      <td>1326</td>\n",
       "      <td>0.143</td>\n",
       "      <td>0.079</td>\n",
       "      <td>0.181</td>\n",
       "      <td>0.057</td>\n",
       "    </tr>\n",
       "    <tr>\n",
       "      <th>2</th>\n",
       "      <td>3</td>\n",
       "      <td>M</td>\n",
       "      <td>21</td>\n",
       "      <td>27</td>\n",
       "      <td>130</td>\n",
       "      <td>1203</td>\n",
       "      <td>0.125</td>\n",
       "      <td>0.160</td>\n",
       "      <td>0.207</td>\n",
       "      <td>0.060</td>\n",
       "    </tr>\n",
       "    <tr>\n",
       "      <th>3</th>\n",
       "      <td>4</td>\n",
       "      <td>M</td>\n",
       "      <td>14</td>\n",
       "      <td>16</td>\n",
       "      <td>78</td>\n",
       "      <td>386</td>\n",
       "      <td>0.070</td>\n",
       "      <td>0.284</td>\n",
       "      <td>0.260</td>\n",
       "      <td>0.097</td>\n",
       "    </tr>\n",
       "    <tr>\n",
       "      <th>4</th>\n",
       "      <td>5</td>\n",
       "      <td>M</td>\n",
       "      <td>9</td>\n",
       "      <td>19</td>\n",
       "      <td>135</td>\n",
       "      <td>1297</td>\n",
       "      <td>0.141</td>\n",
       "      <td>0.133</td>\n",
       "      <td>0.181</td>\n",
       "      <td>0.059</td>\n",
       "    </tr>\n",
       "    <tr>\n",
       "      <th>...</th>\n",
       "      <td>...</td>\n",
       "      <td>...</td>\n",
       "      <td>...</td>\n",
       "      <td>...</td>\n",
       "      <td>...</td>\n",
       "      <td>...</td>\n",
       "      <td>...</td>\n",
       "      <td>...</td>\n",
       "      <td>...</td>\n",
       "      <td>...</td>\n",
       "    </tr>\n",
       "    <tr>\n",
       "      <th>95</th>\n",
       "      <td>96</td>\n",
       "      <td>M</td>\n",
       "      <td>23</td>\n",
       "      <td>16</td>\n",
       "      <td>132</td>\n",
       "      <td>1264</td>\n",
       "      <td>0.091</td>\n",
       "      <td>0.131</td>\n",
       "      <td>0.210</td>\n",
       "      <td>0.056</td>\n",
       "    </tr>\n",
       "    <tr>\n",
       "      <th>96</th>\n",
       "      <td>97</td>\n",
       "      <td>B</td>\n",
       "      <td>22</td>\n",
       "      <td>14</td>\n",
       "      <td>78</td>\n",
       "      <td>451</td>\n",
       "      <td>0.105</td>\n",
       "      <td>0.071</td>\n",
       "      <td>0.190</td>\n",
       "      <td>0.066</td>\n",
       "    </tr>\n",
       "    <tr>\n",
       "      <th>97</th>\n",
       "      <td>98</td>\n",
       "      <td>B</td>\n",
       "      <td>19</td>\n",
       "      <td>27</td>\n",
       "      <td>62</td>\n",
       "      <td>295</td>\n",
       "      <td>0.102</td>\n",
       "      <td>0.053</td>\n",
       "      <td>0.135</td>\n",
       "      <td>0.069</td>\n",
       "    </tr>\n",
       "    <tr>\n",
       "      <th>98</th>\n",
       "      <td>99</td>\n",
       "      <td>B</td>\n",
       "      <td>21</td>\n",
       "      <td>24</td>\n",
       "      <td>74</td>\n",
       "      <td>413</td>\n",
       "      <td>0.090</td>\n",
       "      <td>0.075</td>\n",
       "      <td>0.162</td>\n",
       "      <td>0.066</td>\n",
       "    </tr>\n",
       "    <tr>\n",
       "      <th>99</th>\n",
       "      <td>100</td>\n",
       "      <td>M</td>\n",
       "      <td>16</td>\n",
       "      <td>27</td>\n",
       "      <td>94</td>\n",
       "      <td>643</td>\n",
       "      <td>0.098</td>\n",
       "      <td>0.114</td>\n",
       "      <td>0.188</td>\n",
       "      <td>0.064</td>\n",
       "    </tr>\n",
       "  </tbody>\n",
       "</table>\n",
       "<p>100 rows × 10 columns</p>\n",
       "</div>"
      ],
      "text/plain": [
       "     id diagnosis_result  radius  texture  perimeter  area  smoothness  \\\n",
       "0     1                M      23       12        151   954       0.143   \n",
       "1     2                B       9       13        133  1326       0.143   \n",
       "2     3                M      21       27        130  1203       0.125   \n",
       "3     4                M      14       16         78   386       0.070   \n",
       "4     5                M       9       19        135  1297       0.141   \n",
       "..  ...              ...     ...      ...        ...   ...         ...   \n",
       "95   96                M      23       16        132  1264       0.091   \n",
       "96   97                B      22       14         78   451       0.105   \n",
       "97   98                B      19       27         62   295       0.102   \n",
       "98   99                B      21       24         74   413       0.090   \n",
       "99  100                M      16       27         94   643       0.098   \n",
       "\n",
       "    compactness  symmetry  fractal_dimension  \n",
       "0         0.278     0.242              0.079  \n",
       "1         0.079     0.181              0.057  \n",
       "2         0.160     0.207              0.060  \n",
       "3         0.284     0.260              0.097  \n",
       "4         0.133     0.181              0.059  \n",
       "..          ...       ...                ...  \n",
       "95        0.131     0.210              0.056  \n",
       "96        0.071     0.190              0.066  \n",
       "97        0.053     0.135              0.069  \n",
       "98        0.075     0.162              0.066  \n",
       "99        0.114     0.188              0.064  \n",
       "\n",
       "[100 rows x 10 columns]"
      ]
     },
     "execution_count": 2,
     "metadata": {},
     "output_type": "execute_result"
    }
   ],
   "source": [
    "data = pd.read_csv(\"C:/Users/DELL/Downloads/Prostate_Cancer.csv\") \n",
    "data"
   ]
  },
  {
   "cell_type": "markdown",
   "id": "fa1df036",
   "metadata": {},
   "source": [
    "## `Second: Data preparing/preprocessing (if needed) `"
   ]
  },
  {
   "cell_type": "code",
   "execution_count": 3,
   "id": "84f0de9c",
   "metadata": {},
   "outputs": [
    {
     "name": "stdout",
     "output_type": "stream",
     "text": [
      "<class 'pandas.core.frame.DataFrame'>\n",
      "RangeIndex: 100 entries, 0 to 99\n",
      "Data columns (total 10 columns):\n",
      " #   Column             Non-Null Count  Dtype  \n",
      "---  ------             --------------  -----  \n",
      " 0   id                 100 non-null    int64  \n",
      " 1   diagnosis_result   100 non-null    object \n",
      " 2   radius             100 non-null    int64  \n",
      " 3   texture            100 non-null    int64  \n",
      " 4   perimeter          100 non-null    int64  \n",
      " 5   area               100 non-null    int64  \n",
      " 6   smoothness         100 non-null    float64\n",
      " 7   compactness        100 non-null    float64\n",
      " 8   symmetry           100 non-null    float64\n",
      " 9   fractal_dimension  100 non-null    float64\n",
      "dtypes: float64(4), int64(5), object(1)\n",
      "memory usage: 7.9+ KB\n"
     ]
    }
   ],
   "source": [
    "data.info()"
   ]
  },
  {
   "cell_type": "code",
   "execution_count": 4,
   "id": "a9edbab8",
   "metadata": {},
   "outputs": [
    {
     "data": {
      "text/plain": [
       "(100, 10)"
      ]
     },
     "execution_count": 4,
     "metadata": {},
     "output_type": "execute_result"
    }
   ],
   "source": [
    "data.shape"
   ]
  },
  {
   "cell_type": "code",
   "execution_count": 5,
   "id": "f20302dc",
   "metadata": {},
   "outputs": [
    {
     "data": {
      "text/plain": [
       "id                   False\n",
       "diagnosis_result     False\n",
       "radius               False\n",
       "texture              False\n",
       "perimeter            False\n",
       "area                 False\n",
       "smoothness           False\n",
       "compactness          False\n",
       "symmetry             False\n",
       "fractal_dimension    False\n",
       "dtype: bool"
      ]
     },
     "execution_count": 5,
     "metadata": {},
     "output_type": "execute_result"
    }
   ],
   "source": [
    "# checking any missing values\n",
    "data.isna().any()"
   ]
  },
  {
   "cell_type": "code",
   "execution_count": 6,
   "id": "31aca022",
   "metadata": {},
   "outputs": [
    {
     "data": {
      "text/plain": [
       "0"
      ]
     },
     "execution_count": 6,
     "metadata": {},
     "output_type": "execute_result"
    }
   ],
   "source": [
    "# since no missing values needed, let's check the duplication\n",
    "data.duplicated().sum()"
   ]
  },
  {
   "cell_type": "code",
   "execution_count": 7,
   "id": "661f5c9d",
   "metadata": {},
   "outputs": [],
   "source": [
    "#Great! no duplication or any missing values so let us move on "
   ]
  },
  {
   "cell_type": "code",
   "execution_count": 8,
   "id": "188d0ea7",
   "metadata": {},
   "outputs": [
    {
     "data": {
      "text/html": [
       "<div>\n",
       "<style scoped>\n",
       "    .dataframe tbody tr th:only-of-type {\n",
       "        vertical-align: middle;\n",
       "    }\n",
       "\n",
       "    .dataframe tbody tr th {\n",
       "        vertical-align: top;\n",
       "    }\n",
       "\n",
       "    .dataframe thead th {\n",
       "        text-align: right;\n",
       "    }\n",
       "</style>\n",
       "<table border=\"1\" class=\"dataframe\">\n",
       "  <thead>\n",
       "    <tr style=\"text-align: right;\">\n",
       "      <th></th>\n",
       "      <th>id</th>\n",
       "      <th>radius</th>\n",
       "      <th>texture</th>\n",
       "      <th>perimeter</th>\n",
       "      <th>area</th>\n",
       "      <th>smoothness</th>\n",
       "      <th>compactness</th>\n",
       "      <th>symmetry</th>\n",
       "      <th>fractal_dimension</th>\n",
       "    </tr>\n",
       "  </thead>\n",
       "  <tbody>\n",
       "    <tr>\n",
       "      <th>count</th>\n",
       "      <td>100.0</td>\n",
       "      <td>100.0</td>\n",
       "      <td>100.0</td>\n",
       "      <td>100.0</td>\n",
       "      <td>100.0</td>\n",
       "      <td>100.0</td>\n",
       "      <td>100.0</td>\n",
       "      <td>100.0</td>\n",
       "      <td>100.0</td>\n",
       "    </tr>\n",
       "    <tr>\n",
       "      <th>mean</th>\n",
       "      <td>50.0</td>\n",
       "      <td>17.0</td>\n",
       "      <td>18.0</td>\n",
       "      <td>97.0</td>\n",
       "      <td>703.0</td>\n",
       "      <td>0.0</td>\n",
       "      <td>0.0</td>\n",
       "      <td>0.0</td>\n",
       "      <td>0.0</td>\n",
       "    </tr>\n",
       "    <tr>\n",
       "      <th>std</th>\n",
       "      <td>29.0</td>\n",
       "      <td>5.0</td>\n",
       "      <td>5.0</td>\n",
       "      <td>24.0</td>\n",
       "      <td>320.0</td>\n",
       "      <td>0.0</td>\n",
       "      <td>0.0</td>\n",
       "      <td>0.0</td>\n",
       "      <td>0.0</td>\n",
       "    </tr>\n",
       "    <tr>\n",
       "      <th>min</th>\n",
       "      <td>1.0</td>\n",
       "      <td>9.0</td>\n",
       "      <td>11.0</td>\n",
       "      <td>52.0</td>\n",
       "      <td>202.0</td>\n",
       "      <td>0.0</td>\n",
       "      <td>0.0</td>\n",
       "      <td>0.0</td>\n",
       "      <td>0.0</td>\n",
       "    </tr>\n",
       "    <tr>\n",
       "      <th>25%</th>\n",
       "      <td>26.0</td>\n",
       "      <td>12.0</td>\n",
       "      <td>14.0</td>\n",
       "      <td>82.0</td>\n",
       "      <td>477.0</td>\n",
       "      <td>0.0</td>\n",
       "      <td>0.0</td>\n",
       "      <td>0.0</td>\n",
       "      <td>0.0</td>\n",
       "    </tr>\n",
       "    <tr>\n",
       "      <th>50%</th>\n",
       "      <td>50.0</td>\n",
       "      <td>17.0</td>\n",
       "      <td>18.0</td>\n",
       "      <td>94.0</td>\n",
       "      <td>644.0</td>\n",
       "      <td>0.0</td>\n",
       "      <td>0.0</td>\n",
       "      <td>0.0</td>\n",
       "      <td>0.0</td>\n",
       "    </tr>\n",
       "    <tr>\n",
       "      <th>75%</th>\n",
       "      <td>75.0</td>\n",
       "      <td>21.0</td>\n",
       "      <td>22.0</td>\n",
       "      <td>114.0</td>\n",
       "      <td>917.0</td>\n",
       "      <td>0.0</td>\n",
       "      <td>0.0</td>\n",
       "      <td>0.0</td>\n",
       "      <td>0.0</td>\n",
       "    </tr>\n",
       "    <tr>\n",
       "      <th>max</th>\n",
       "      <td>100.0</td>\n",
       "      <td>25.0</td>\n",
       "      <td>27.0</td>\n",
       "      <td>172.0</td>\n",
       "      <td>1878.0</td>\n",
       "      <td>0.0</td>\n",
       "      <td>0.0</td>\n",
       "      <td>0.0</td>\n",
       "      <td>0.0</td>\n",
       "    </tr>\n",
       "  </tbody>\n",
       "</table>\n",
       "</div>"
      ],
      "text/plain": [
       "          id  radius  texture  perimeter    area  smoothness  compactness  \\\n",
       "count  100.0   100.0    100.0      100.0   100.0       100.0        100.0   \n",
       "mean    50.0    17.0     18.0       97.0   703.0         0.0          0.0   \n",
       "std     29.0     5.0      5.0       24.0   320.0         0.0          0.0   \n",
       "min      1.0     9.0     11.0       52.0   202.0         0.0          0.0   \n",
       "25%     26.0    12.0     14.0       82.0   477.0         0.0          0.0   \n",
       "50%     50.0    17.0     18.0       94.0   644.0         0.0          0.0   \n",
       "75%     75.0    21.0     22.0      114.0   917.0         0.0          0.0   \n",
       "max    100.0    25.0     27.0      172.0  1878.0         0.0          0.0   \n",
       "\n",
       "       symmetry  fractal_dimension  \n",
       "count     100.0              100.0  \n",
       "mean        0.0                0.0  \n",
       "std         0.0                0.0  \n",
       "min         0.0                0.0  \n",
       "25%         0.0                0.0  \n",
       "50%         0.0                0.0  \n",
       "75%         0.0                0.0  \n",
       "max         0.0                0.0  "
      ]
     },
     "execution_count": 8,
     "metadata": {},
     "output_type": "execute_result"
    }
   ],
   "source": [
    "# Statsical information for numerical features\n",
    "round(data.describe(include=\"number\"))"
   ]
  },
  {
   "cell_type": "code",
   "execution_count": 9,
   "id": "aaba61be",
   "metadata": {},
   "outputs": [
    {
     "data": {
      "text/html": [
       "<div>\n",
       "<style scoped>\n",
       "    .dataframe tbody tr th:only-of-type {\n",
       "        vertical-align: middle;\n",
       "    }\n",
       "\n",
       "    .dataframe tbody tr th {\n",
       "        vertical-align: top;\n",
       "    }\n",
       "\n",
       "    .dataframe thead th {\n",
       "        text-align: right;\n",
       "    }\n",
       "</style>\n",
       "<table border=\"1\" class=\"dataframe\">\n",
       "  <thead>\n",
       "    <tr style=\"text-align: right;\">\n",
       "      <th></th>\n",
       "      <th>diagnosis_result</th>\n",
       "    </tr>\n",
       "  </thead>\n",
       "  <tbody>\n",
       "    <tr>\n",
       "      <th>count</th>\n",
       "      <td>100</td>\n",
       "    </tr>\n",
       "    <tr>\n",
       "      <th>unique</th>\n",
       "      <td>2</td>\n",
       "    </tr>\n",
       "    <tr>\n",
       "      <th>top</th>\n",
       "      <td>M</td>\n",
       "    </tr>\n",
       "    <tr>\n",
       "      <th>freq</th>\n",
       "      <td>62</td>\n",
       "    </tr>\n",
       "  </tbody>\n",
       "</table>\n",
       "</div>"
      ],
      "text/plain": [
       "       diagnosis_result\n",
       "count               100\n",
       "unique                2\n",
       "top                   M\n",
       "freq                 62"
      ]
     },
     "execution_count": 9,
     "metadata": {},
     "output_type": "execute_result"
    }
   ],
   "source": [
    "# Statsical information for categoral (non-numeric) features\n",
    "round(data.describe(exclude=\"number\"))"
   ]
  },
  {
   "cell_type": "markdown",
   "id": "dee024dd",
   "metadata": {},
   "source": [
    "### observation\n",
    "- It seems that all the features are numerical except for the target"
   ]
  },
  {
   "cell_type": "code",
   "execution_count": 10,
   "id": "a709bc9f",
   "metadata": {},
   "outputs": [
    {
     "data": {
      "text/html": [
       "<div>\n",
       "<style scoped>\n",
       "    .dataframe tbody tr th:only-of-type {\n",
       "        vertical-align: middle;\n",
       "    }\n",
       "\n",
       "    .dataframe tbody tr th {\n",
       "        vertical-align: top;\n",
       "    }\n",
       "\n",
       "    .dataframe thead th {\n",
       "        text-align: right;\n",
       "    }\n",
       "</style>\n",
       "<table border=\"1\" class=\"dataframe\">\n",
       "  <thead>\n",
       "    <tr style=\"text-align: right;\">\n",
       "      <th></th>\n",
       "      <th>diagnosis_result</th>\n",
       "      <th>radius</th>\n",
       "      <th>texture</th>\n",
       "      <th>perimeter</th>\n",
       "      <th>area</th>\n",
       "      <th>smoothness</th>\n",
       "      <th>compactness</th>\n",
       "      <th>symmetry</th>\n",
       "      <th>fractal_dimension</th>\n",
       "    </tr>\n",
       "  </thead>\n",
       "  <tbody>\n",
       "    <tr>\n",
       "      <th>0</th>\n",
       "      <td>M</td>\n",
       "      <td>23</td>\n",
       "      <td>12</td>\n",
       "      <td>151</td>\n",
       "      <td>954</td>\n",
       "      <td>0.143</td>\n",
       "      <td>0.278</td>\n",
       "      <td>0.242</td>\n",
       "      <td>0.079</td>\n",
       "    </tr>\n",
       "    <tr>\n",
       "      <th>1</th>\n",
       "      <td>B</td>\n",
       "      <td>9</td>\n",
       "      <td>13</td>\n",
       "      <td>133</td>\n",
       "      <td>1326</td>\n",
       "      <td>0.143</td>\n",
       "      <td>0.079</td>\n",
       "      <td>0.181</td>\n",
       "      <td>0.057</td>\n",
       "    </tr>\n",
       "    <tr>\n",
       "      <th>2</th>\n",
       "      <td>M</td>\n",
       "      <td>21</td>\n",
       "      <td>27</td>\n",
       "      <td>130</td>\n",
       "      <td>1203</td>\n",
       "      <td>0.125</td>\n",
       "      <td>0.160</td>\n",
       "      <td>0.207</td>\n",
       "      <td>0.060</td>\n",
       "    </tr>\n",
       "    <tr>\n",
       "      <th>3</th>\n",
       "      <td>M</td>\n",
       "      <td>14</td>\n",
       "      <td>16</td>\n",
       "      <td>78</td>\n",
       "      <td>386</td>\n",
       "      <td>0.070</td>\n",
       "      <td>0.284</td>\n",
       "      <td>0.260</td>\n",
       "      <td>0.097</td>\n",
       "    </tr>\n",
       "    <tr>\n",
       "      <th>4</th>\n",
       "      <td>M</td>\n",
       "      <td>9</td>\n",
       "      <td>19</td>\n",
       "      <td>135</td>\n",
       "      <td>1297</td>\n",
       "      <td>0.141</td>\n",
       "      <td>0.133</td>\n",
       "      <td>0.181</td>\n",
       "      <td>0.059</td>\n",
       "    </tr>\n",
       "    <tr>\n",
       "      <th>...</th>\n",
       "      <td>...</td>\n",
       "      <td>...</td>\n",
       "      <td>...</td>\n",
       "      <td>...</td>\n",
       "      <td>...</td>\n",
       "      <td>...</td>\n",
       "      <td>...</td>\n",
       "      <td>...</td>\n",
       "      <td>...</td>\n",
       "    </tr>\n",
       "    <tr>\n",
       "      <th>95</th>\n",
       "      <td>M</td>\n",
       "      <td>23</td>\n",
       "      <td>16</td>\n",
       "      <td>132</td>\n",
       "      <td>1264</td>\n",
       "      <td>0.091</td>\n",
       "      <td>0.131</td>\n",
       "      <td>0.210</td>\n",
       "      <td>0.056</td>\n",
       "    </tr>\n",
       "    <tr>\n",
       "      <th>96</th>\n",
       "      <td>B</td>\n",
       "      <td>22</td>\n",
       "      <td>14</td>\n",
       "      <td>78</td>\n",
       "      <td>451</td>\n",
       "      <td>0.105</td>\n",
       "      <td>0.071</td>\n",
       "      <td>0.190</td>\n",
       "      <td>0.066</td>\n",
       "    </tr>\n",
       "    <tr>\n",
       "      <th>97</th>\n",
       "      <td>B</td>\n",
       "      <td>19</td>\n",
       "      <td>27</td>\n",
       "      <td>62</td>\n",
       "      <td>295</td>\n",
       "      <td>0.102</td>\n",
       "      <td>0.053</td>\n",
       "      <td>0.135</td>\n",
       "      <td>0.069</td>\n",
       "    </tr>\n",
       "    <tr>\n",
       "      <th>98</th>\n",
       "      <td>B</td>\n",
       "      <td>21</td>\n",
       "      <td>24</td>\n",
       "      <td>74</td>\n",
       "      <td>413</td>\n",
       "      <td>0.090</td>\n",
       "      <td>0.075</td>\n",
       "      <td>0.162</td>\n",
       "      <td>0.066</td>\n",
       "    </tr>\n",
       "    <tr>\n",
       "      <th>99</th>\n",
       "      <td>M</td>\n",
       "      <td>16</td>\n",
       "      <td>27</td>\n",
       "      <td>94</td>\n",
       "      <td>643</td>\n",
       "      <td>0.098</td>\n",
       "      <td>0.114</td>\n",
       "      <td>0.188</td>\n",
       "      <td>0.064</td>\n",
       "    </tr>\n",
       "  </tbody>\n",
       "</table>\n",
       "<p>100 rows × 9 columns</p>\n",
       "</div>"
      ],
      "text/plain": [
       "   diagnosis_result  radius  texture  perimeter  area  smoothness  \\\n",
       "0                 M      23       12        151   954       0.143   \n",
       "1                 B       9       13        133  1326       0.143   \n",
       "2                 M      21       27        130  1203       0.125   \n",
       "3                 M      14       16         78   386       0.070   \n",
       "4                 M       9       19        135  1297       0.141   \n",
       "..              ...     ...      ...        ...   ...         ...   \n",
       "95                M      23       16        132  1264       0.091   \n",
       "96                B      22       14         78   451       0.105   \n",
       "97                B      19       27         62   295       0.102   \n",
       "98                B      21       24         74   413       0.090   \n",
       "99                M      16       27         94   643       0.098   \n",
       "\n",
       "    compactness  symmetry  fractal_dimension  \n",
       "0         0.278     0.242              0.079  \n",
       "1         0.079     0.181              0.057  \n",
       "2         0.160     0.207              0.060  \n",
       "3         0.284     0.260              0.097  \n",
       "4         0.133     0.181              0.059  \n",
       "..          ...       ...                ...  \n",
       "95        0.131     0.210              0.056  \n",
       "96        0.071     0.190              0.066  \n",
       "97        0.053     0.135              0.069  \n",
       "98        0.075     0.162              0.066  \n",
       "99        0.114     0.188              0.064  \n",
       "\n",
       "[100 rows x 9 columns]"
      ]
     },
     "execution_count": 10,
     "metadata": {},
     "output_type": "execute_result"
    }
   ],
   "source": [
    "# let us drop the id column since we needn't in our task.\n",
    "data.drop(['id'],axis=1,inplace=True)\n",
    "data"
   ]
  },
  {
   "cell_type": "markdown",
   "id": "52bbfa47",
   "metadata": {},
   "source": [
    "## `Third: EDA`"
   ]
  },
  {
   "cell_type": "code",
   "execution_count": 11,
   "id": "018a4338",
   "metadata": {},
   "outputs": [
    {
     "data": {
      "text/plain": [
       "M    62\n",
       "B    38\n",
       "Name: diagnosis_result, dtype: int64"
      ]
     },
     "execution_count": 11,
     "metadata": {},
     "output_type": "execute_result"
    }
   ],
   "source": [
    "results = data[\"diagnosis_result\"].value_counts()\n",
    "results"
   ]
  },
  {
   "cell_type": "code",
   "execution_count": 12,
   "id": "13e1201d",
   "metadata": {},
   "outputs": [],
   "source": [
    "# For better understanding let's replace M and B with malignant and benign\n",
    "data[\"diagnosis_result\"] = data[\"diagnosis_result\"].replace({'M': 'Malignant', 'B': 'Benign'})"
   ]
  },
  {
   "cell_type": "code",
   "execution_count": 13,
   "id": "7054b988",
   "metadata": {},
   "outputs": [
    {
     "data": {
      "text/plain": [
       "Malignant    62\n",
       "Benign       38\n",
       "Name: diagnosis_result, dtype: int64"
      ]
     },
     "execution_count": 13,
     "metadata": {},
     "output_type": "execute_result"
    }
   ],
   "source": [
    "results = data[\"diagnosis_result\"].value_counts()\n",
    "results"
   ]
  },
  {
   "cell_type": "code",
   "execution_count": 14,
   "id": "6fd12de3",
   "metadata": {},
   "outputs": [
    {
     "data": {
      "image/png": "[encoded data removed]",
      "text/plain": [
       "<Figure size 432x288 with 1 Axes>"
      ]
     },
     "metadata": {},
     "output_type": "display_data"
    }
   ],
   "source": [
    "colors = ['#FFC0CB', '#FF69B4']\n",
    "plt.pie(labels=results.index,x=results.values, colors=colors,autopct = '%.2f%%')\n",
    "plt.title(\"Distribution of tumor\")\n",
    "plt.show()"
   ]
  },
  {
   "cell_type": "markdown",
   "id": "782b990a",
   "metadata": {},
   "source": [
    "### observation\n",
    "- The distribution of malignant tumors in our dataset is more than benign."
   ]
  },
  {
   "cell_type": "markdown",
   "id": "1528b7ec",
   "metadata": {},
   "source": [
    "### Symmetry"
   ]
  },
  {
   "cell_type": "code",
   "execution_count": 15,
   "id": "82a06e67",
   "metadata": {},
   "outputs": [
    {
     "data": {
      "text/plain": [
       "0.172    5\n",
       "0.190    4\n",
       "0.181    3\n",
       "0.195    3\n",
       "0.193    3\n",
       "        ..\n",
       "0.157    1\n",
       "0.178    1\n",
       "0.231    1\n",
       "0.175    1\n",
       "0.188    1\n",
       "Name: symmetry, Length: 64, dtype: int64"
      ]
     },
     "execution_count": 15,
     "metadata": {},
     "output_type": "execute_result"
    }
   ],
   "source": [
    "values = data[\"symmetry\"].value_counts()\n",
    "values"
   ]
  },
  {
   "cell_type": "code",
   "execution_count": 16,
   "id": "1f2eaab6",
   "metadata": {},
   "outputs": [
    {
     "data": {
      "text/plain": [
       "0.19317"
      ]
     },
     "execution_count": 16,
     "metadata": {},
     "output_type": "execute_result"
    }
   ],
   "source": [
    "data[\"symmetry\"].mean()"
   ]
  },
  {
   "cell_type": "code",
   "execution_count": 17,
   "id": "43ee716f",
   "metadata": {},
   "outputs": [],
   "source": [
    "# We can't benifit from a values like this,so..\n",
    "# what about creating another feature by classifying this wide range of values for symmetry"
   ]
  },
  {
   "cell_type": "code",
   "execution_count": 18,
   "id": "5eeb9b20",
   "metadata": {},
   "outputs": [],
   "source": [
    "bins = [float('-inf'), 0.15, 0.20, float('inf')]\n",
    "labels = ['mild_symmetry', 'moderate_symmetry', 'high_symmetry']\n",
    "\n",
    "# Create a new column 'symmetry_category' based on the cut\n",
    "data['symmetry_category'] = pd.cut(data['symmetry'],bins=bins,labels=labels)"
   ]
  },
  {
   "cell_type": "code",
   "execution_count": 19,
   "id": "904db74d",
   "metadata": {},
   "outputs": [
    {
     "data": {
      "image/png": "[encoded data removed]",
      "text/plain": [
       "<Figure size 720x432 with 1 Axes>"
      ]
     },
     "metadata": {
      "needs_background": "light"
     },
     "output_type": "display_data"
    }
   ],
   "source": [
    "plt.figure(figsize=(10, 6))\n",
    "sns.histplot(data, x=\"symmetry_category\",binwidth=5, color=\"pink\")\n",
    "plt.title(\"symmetry_category Distribution\")\n",
    "plt.show()"
   ]
  },
  {
   "cell_type": "code",
   "execution_count": 20,
   "id": "10a561d8",
   "metadata": {},
   "outputs": [
    {
     "data": {
      "image/png": "[encoded data removed]",
      "text/plain": [
       "<Figure size 1008x720 with 1 Axes>"
      ]
     },
     "metadata": {
      "needs_background": "light"
     },
     "output_type": "display_data"
    }
   ],
   "source": [
    "plt.figure(figsize=(14,10))\n",
    "sns.set_theme(style=\"darkgrid\", font_scale = 1.1)\n",
    "g =sns.countplot(data=data, x='symmetry_category', hue='diagnosis_result', palette='rocket').set_title('the distribution of mild and moderate tumors')"
   ]
  },
  {
   "cell_type": "markdown",
   "id": "c1df2ba3",
   "metadata": {},
   "source": [
    "### observation\n",
    "- The distribution of moderate symmetry tumors is the highest.\n",
    "- It seems that the mild symmetry ones are always benign while most of the moderate and high are malignant."
   ]
  },
  {
   "cell_type": "markdown",
   "id": "4eb38ea2",
   "metadata": {},
   "source": [
    "### Compactness"
   ]
  },
  {
   "cell_type": "code",
   "execution_count": 21,
   "id": "b918df93",
   "metadata": {},
   "outputs": [
    {
     "data": {
      "text/plain": [
       "Index(['diagnosis_result', 'radius', 'texture', 'perimeter', 'area',\n",
       "       'smoothness', 'compactness', 'symmetry', 'fractal_dimension',\n",
       "       'symmetry_category'],\n",
       "      dtype='object')"
      ]
     },
     "execution_count": 21,
     "metadata": {},
     "output_type": "execute_result"
    }
   ],
   "source": [
    "data.columns"
   ]
  },
  {
   "cell_type": "code",
   "execution_count": 22,
   "id": "be1ef594",
   "metadata": {},
   "outputs": [
    {
     "data": {
      "text/plain": [
       "0.105    3\n",
       "0.126    2\n",
       "0.134    2\n",
       "0.127    2\n",
       "0.081    2\n",
       "        ..\n",
       "0.150    1\n",
       "0.152    1\n",
       "0.189    1\n",
       "0.116    1\n",
       "0.114    1\n",
       "Name: compactness, Length: 85, dtype: int64"
      ]
     },
     "execution_count": 22,
     "metadata": {},
     "output_type": "execute_result"
    }
   ],
   "source": [
    "data[\"compactness\"].value_counts()"
   ]
  },
  {
   "cell_type": "code",
   "execution_count": 23,
   "id": "b4dcf2d4",
   "metadata": {},
   "outputs": [
    {
     "data": {
      "text/plain": [
       "<seaborn.axisgrid.FacetGrid at 0x1a25c6734f0>"
      ]
     },
     "execution_count": 23,
     "metadata": {},
     "output_type": "execute_result"
    },
    {
     "data": {
      "image/png": "[encoded data removed]",
      "text/plain": [
       "<Figure size 465.555x360 with 1 Axes>"
      ]
     },
     "metadata": {},
     "output_type": "display_data"
    }
   ],
   "source": [
    "sns.displot(data, x = \"compactness\", hue='diagnosis_result')"
   ]
  },
  {
   "cell_type": "code",
   "execution_count": 24,
   "id": "101da090",
   "metadata": {},
   "outputs": [
    {
     "data": {
      "text/plain": [
       "0.1267"
      ]
     },
     "execution_count": 24,
     "metadata": {},
     "output_type": "execute_result"
    }
   ],
   "source": [
    "data[\"compactness\"].mean()"
   ]
  },
  {
   "cell_type": "code",
   "execution_count": 25,
   "id": "04f6211c",
   "metadata": {},
   "outputs": [],
   "source": [
    "bins = [float('-inf'), 0.10, 0.20, float('inf')]\n",
    "labels = ['low_compact', 'moderate_compact', 'high_compact']\n",
    "\n",
    "# Create a new column 'symmetry_category' based on the cut\n",
    "data['compactness_category'] = pd.cut(data['compactness'], bins=bins, labels=labels)"
   ]
  },
  {
   "cell_type": "code",
   "execution_count": 26,
   "id": "74b3de12",
   "metadata": {},
   "outputs": [
    {
     "data": {
      "text/html": [
       "<div>\n",
       "<style scoped>\n",
       "    .dataframe tbody tr th:only-of-type {\n",
       "        vertical-align: middle;\n",
       "    }\n",
       "\n",
       "    .dataframe tbody tr th {\n",
       "        vertical-align: top;\n",
       "    }\n",
       "\n",
       "    .dataframe thead th {\n",
       "        text-align: right;\n",
       "    }\n",
       "</style>\n",
       "<table border=\"1\" class=\"dataframe\">\n",
       "  <thead>\n",
       "    <tr style=\"text-align: right;\">\n",
       "      <th></th>\n",
       "      <th>diagnosis_result</th>\n",
       "      <th>radius</th>\n",
       "      <th>texture</th>\n",
       "      <th>perimeter</th>\n",
       "      <th>area</th>\n",
       "      <th>smoothness</th>\n",
       "      <th>compactness</th>\n",
       "      <th>symmetry</th>\n",
       "      <th>fractal_dimension</th>\n",
       "      <th>symmetry_category</th>\n",
       "      <th>compactness_category</th>\n",
       "    </tr>\n",
       "  </thead>\n",
       "  <tbody>\n",
       "    <tr>\n",
       "      <th>0</th>\n",
       "      <td>Malignant</td>\n",
       "      <td>23</td>\n",
       "      <td>12</td>\n",
       "      <td>151</td>\n",
       "      <td>954</td>\n",
       "      <td>0.143</td>\n",
       "      <td>0.278</td>\n",
       "      <td>0.242</td>\n",
       "      <td>0.079</td>\n",
       "      <td>high_symmetry</td>\n",
       "      <td>high_compact</td>\n",
       "    </tr>\n",
       "    <tr>\n",
       "      <th>1</th>\n",
       "      <td>Benign</td>\n",
       "      <td>9</td>\n",
       "      <td>13</td>\n",
       "      <td>133</td>\n",
       "      <td>1326</td>\n",
       "      <td>0.143</td>\n",
       "      <td>0.079</td>\n",
       "      <td>0.181</td>\n",
       "      <td>0.057</td>\n",
       "      <td>moderate_symmetry</td>\n",
       "      <td>low_compact</td>\n",
       "    </tr>\n",
       "    <tr>\n",
       "      <th>2</th>\n",
       "      <td>Malignant</td>\n",
       "      <td>21</td>\n",
       "      <td>27</td>\n",
       "      <td>130</td>\n",
       "      <td>1203</td>\n",
       "      <td>0.125</td>\n",
       "      <td>0.160</td>\n",
       "      <td>0.207</td>\n",
       "      <td>0.060</td>\n",
       "      <td>high_symmetry</td>\n",
       "      <td>moderate_compact</td>\n",
       "    </tr>\n",
       "    <tr>\n",
       "      <th>3</th>\n",
       "      <td>Malignant</td>\n",
       "      <td>14</td>\n",
       "      <td>16</td>\n",
       "      <td>78</td>\n",
       "      <td>386</td>\n",
       "      <td>0.070</td>\n",
       "      <td>0.284</td>\n",
       "      <td>0.260</td>\n",
       "      <td>0.097</td>\n",
       "      <td>high_symmetry</td>\n",
       "      <td>high_compact</td>\n",
       "    </tr>\n",
       "    <tr>\n",
       "      <th>4</th>\n",
       "      <td>Malignant</td>\n",
       "      <td>9</td>\n",
       "      <td>19</td>\n",
       "      <td>135</td>\n",
       "      <td>1297</td>\n",
       "      <td>0.141</td>\n",
       "      <td>0.133</td>\n",
       "      <td>0.181</td>\n",
       "      <td>0.059</td>\n",
       "      <td>moderate_symmetry</td>\n",
       "      <td>moderate_compact</td>\n",
       "    </tr>\n",
       "    <tr>\n",
       "      <th>...</th>\n",
       "      <td>...</td>\n",
       "      <td>...</td>\n",
       "      <td>...</td>\n",
       "      <td>...</td>\n",
       "      <td>...</td>\n",
       "      <td>...</td>\n",
       "      <td>...</td>\n",
       "      <td>...</td>\n",
       "      <td>...</td>\n",
       "      <td>...</td>\n",
       "      <td>...</td>\n",
       "    </tr>\n",
       "    <tr>\n",
       "      <th>95</th>\n",
       "      <td>Malignant</td>\n",
       "      <td>23</td>\n",
       "      <td>16</td>\n",
       "      <td>132</td>\n",
       "      <td>1264</td>\n",
       "      <td>0.091</td>\n",
       "      <td>0.131</td>\n",
       "      <td>0.210</td>\n",
       "      <td>0.056</td>\n",
       "      <td>high_symmetry</td>\n",
       "      <td>moderate_compact</td>\n",
       "    </tr>\n",
       "    <tr>\n",
       "      <th>96</th>\n",
       "      <td>Benign</td>\n",
       "      <td>22</td>\n",
       "      <td>14</td>\n",
       "      <td>78</td>\n",
       "      <td>451</td>\n",
       "      <td>0.105</td>\n",
       "      <td>0.071</td>\n",
       "      <td>0.190</td>\n",
       "      <td>0.066</td>\n",
       "      <td>moderate_symmetry</td>\n",
       "      <td>low_compact</td>\n",
       "    </tr>\n",
       "    <tr>\n",
       "      <th>97</th>\n",
       "      <td>Benign</td>\n",
       "      <td>19</td>\n",
       "      <td>27</td>\n",
       "      <td>62</td>\n",
       "      <td>295</td>\n",
       "      <td>0.102</td>\n",
       "      <td>0.053</td>\n",
       "      <td>0.135</td>\n",
       "      <td>0.069</td>\n",
       "      <td>mild_symmetry</td>\n",
       "      <td>low_compact</td>\n",
       "    </tr>\n",
       "    <tr>\n",
       "      <th>98</th>\n",
       "      <td>Benign</td>\n",
       "      <td>21</td>\n",
       "      <td>24</td>\n",
       "      <td>74</td>\n",
       "      <td>413</td>\n",
       "      <td>0.090</td>\n",
       "      <td>0.075</td>\n",
       "      <td>0.162</td>\n",
       "      <td>0.066</td>\n",
       "      <td>moderate_symmetry</td>\n",
       "      <td>low_compact</td>\n",
       "    </tr>\n",
       "    <tr>\n",
       "      <th>99</th>\n",
       "      <td>Malignant</td>\n",
       "      <td>16</td>\n",
       "      <td>27</td>\n",
       "      <td>94</td>\n",
       "      <td>643</td>\n",
       "      <td>0.098</td>\n",
       "      <td>0.114</td>\n",
       "      <td>0.188</td>\n",
       "      <td>0.064</td>\n",
       "      <td>moderate_symmetry</td>\n",
       "      <td>moderate_compact</td>\n",
       "    </tr>\n",
       "  </tbody>\n",
       "</table>\n",
       "<p>100 rows × 11 columns</p>\n",
       "</div>"
      ],
      "text/plain": [
       "   diagnosis_result  radius  texture  perimeter  area  smoothness  \\\n",
       "0         Malignant      23       12        151   954       0.143   \n",
       "1            Benign       9       13        133  1326       0.143   \n",
       "2         Malignant      21       27        130  1203       0.125   \n",
       "3         Malignant      14       16         78   386       0.070   \n",
       "4         Malignant       9       19        135  1297       0.141   \n",
       "..              ...     ...      ...        ...   ...         ...   \n",
       "95        Malignant      23       16        132  1264       0.091   \n",
       "96           Benign      22       14         78   451       0.105   \n",
       "97           Benign      19       27         62   295       0.102   \n",
       "98           Benign      21       24         74   413       0.090   \n",
       "99        Malignant      16       27         94   643       0.098   \n",
       "\n",
       "    compactness  symmetry  fractal_dimension  symmetry_category  \\\n",
       "0         0.278     0.242              0.079      high_symmetry   \n",
       "1         0.079     0.181              0.057  moderate_symmetry   \n",
       "2         0.160     0.207              0.060      high_symmetry   \n",
       "3         0.284     0.260              0.097      high_symmetry   \n",
       "4         0.133     0.181              0.059  moderate_symmetry   \n",
       "..          ...       ...                ...                ...   \n",
       "95        0.131     0.210              0.056      high_symmetry   \n",
       "96        0.071     0.190              0.066  moderate_symmetry   \n",
       "97        0.053     0.135              0.069      mild_symmetry   \n",
       "98        0.075     0.162              0.066  moderate_symmetry   \n",
       "99        0.114     0.188              0.064  moderate_symmetry   \n",
       "\n",
       "   compactness_category  \n",
       "0          high_compact  \n",
       "1           low_compact  \n",
       "2      moderate_compact  \n",
       "3          high_compact  \n",
       "4      moderate_compact  \n",
       "..                  ...  \n",
       "95     moderate_compact  \n",
       "96          low_compact  \n",
       "97          low_compact  \n",
       "98          low_compact  \n",
       "99     moderate_compact  \n",
       "\n",
       "[100 rows x 11 columns]"
      ]
     },
     "execution_count": 26,
     "metadata": {},
     "output_type": "execute_result"
    }
   ],
   "source": [
    "data"
   ]
  },
  {
   "cell_type": "code",
   "execution_count": 27,
   "id": "8678ae36",
   "metadata": {},
   "outputs": [],
   "source": [
    "data['compactness_category'] = data['compactness_category'].astype('object')"
   ]
  },
  {
   "cell_type": "code",
   "execution_count": 28,
   "id": "d1a2b644",
   "metadata": {},
   "outputs": [
    {
     "name": "stdout",
     "output_type": "stream",
     "text": [
      "<class 'pandas.core.frame.DataFrame'>\n",
      "RangeIndex: 100 entries, 0 to 99\n",
      "Data columns (total 11 columns):\n",
      " #   Column                Non-Null Count  Dtype   \n",
      "---  ------                --------------  -----   \n",
      " 0   diagnosis_result      100 non-null    object  \n",
      " 1   radius                100 non-null    int64   \n",
      " 2   texture               100 non-null    int64   \n",
      " 3   perimeter             100 non-null    int64   \n",
      " 4   area                  100 non-null    int64   \n",
      " 5   smoothness            100 non-null    float64 \n",
      " 6   compactness           100 non-null    float64 \n",
      " 7   symmetry              100 non-null    float64 \n",
      " 8   fractal_dimension     100 non-null    float64 \n",
      " 9   symmetry_category     100 non-null    category\n",
      " 10  compactness_category  100 non-null    object  \n",
      "dtypes: category(1), float64(4), int64(4), object(2)\n",
      "memory usage: 8.2+ KB\n"
     ]
    }
   ],
   "source": [
    "data.info()"
   ]
  },
  {
   "cell_type": "code",
   "execution_count": 29,
   "id": "90423cb7",
   "metadata": {},
   "outputs": [
    {
     "data": {
      "text/plain": [
       "Text(0.5, 1.0, 'the distribution of mild and moderate tumors')"
      ]
     },
     "execution_count": 29,
     "metadata": {},
     "output_type": "execute_result"
    },
    {
     "data": {
      "image/png": "[encoded data removed]",
      "text/plain": [
       "<Figure size 1008x720 with 1 Axes>"
      ]
     },
     "metadata": {},
     "output_type": "display_data"
    }
   ],
   "source": [
    "plt.figure(figsize=(14,10))\n",
    "# sns.set_theme(style=\"darkgrid\", font_scale = 1.1)\n",
    "sns.countplot(data=data, x='compactness_category', hue='diagnosis_result', palette='pastel').set_title('the distribution of mild and moderate tumors')"
   ]
  },
  {
   "cell_type": "code",
   "execution_count": 30,
   "id": "f0e34e4b",
   "metadata": {},
   "outputs": [
    {
     "data": {
      "text/html": [
       "<div>\n",
       "<style scoped>\n",
       "    .dataframe tbody tr th:only-of-type {\n",
       "        vertical-align: middle;\n",
       "    }\n",
       "\n",
       "    .dataframe tbody tr th {\n",
       "        vertical-align: top;\n",
       "    }\n",
       "\n",
       "    .dataframe thead th {\n",
       "        text-align: right;\n",
       "    }\n",
       "</style>\n",
       "<table border=\"1\" class=\"dataframe\">\n",
       "  <thead>\n",
       "    <tr style=\"text-align: right;\">\n",
       "      <th></th>\n",
       "      <th>diagnosis_result</th>\n",
       "      <th>radius</th>\n",
       "      <th>texture</th>\n",
       "      <th>perimeter</th>\n",
       "      <th>area</th>\n",
       "      <th>smoothness</th>\n",
       "      <th>compactness</th>\n",
       "      <th>fractal_dimension</th>\n",
       "      <th>symmetry_category</th>\n",
       "      <th>compactness_category</th>\n",
       "    </tr>\n",
       "  </thead>\n",
       "  <tbody>\n",
       "    <tr>\n",
       "      <th>0</th>\n",
       "      <td>Malignant</td>\n",
       "      <td>23</td>\n",
       "      <td>12</td>\n",
       "      <td>151</td>\n",
       "      <td>954</td>\n",
       "      <td>0.143</td>\n",
       "      <td>0.278</td>\n",
       "      <td>0.079</td>\n",
       "      <td>high_symmetry</td>\n",
       "      <td>high_compact</td>\n",
       "    </tr>\n",
       "    <tr>\n",
       "      <th>1</th>\n",
       "      <td>Benign</td>\n",
       "      <td>9</td>\n",
       "      <td>13</td>\n",
       "      <td>133</td>\n",
       "      <td>1326</td>\n",
       "      <td>0.143</td>\n",
       "      <td>0.079</td>\n",
       "      <td>0.057</td>\n",
       "      <td>moderate_symmetry</td>\n",
       "      <td>low_compact</td>\n",
       "    </tr>\n",
       "    <tr>\n",
       "      <th>2</th>\n",
       "      <td>Malignant</td>\n",
       "      <td>21</td>\n",
       "      <td>27</td>\n",
       "      <td>130</td>\n",
       "      <td>1203</td>\n",
       "      <td>0.125</td>\n",
       "      <td>0.160</td>\n",
       "      <td>0.060</td>\n",
       "      <td>high_symmetry</td>\n",
       "      <td>moderate_compact</td>\n",
       "    </tr>\n",
       "    <tr>\n",
       "      <th>3</th>\n",
       "      <td>Malignant</td>\n",
       "      <td>14</td>\n",
       "      <td>16</td>\n",
       "      <td>78</td>\n",
       "      <td>386</td>\n",
       "      <td>0.070</td>\n",
       "      <td>0.284</td>\n",
       "      <td>0.097</td>\n",
       "      <td>high_symmetry</td>\n",
       "      <td>high_compact</td>\n",
       "    </tr>\n",
       "    <tr>\n",
       "      <th>4</th>\n",
       "      <td>Malignant</td>\n",
       "      <td>9</td>\n",
       "      <td>19</td>\n",
       "      <td>135</td>\n",
       "      <td>1297</td>\n",
       "      <td>0.141</td>\n",
       "      <td>0.133</td>\n",
       "      <td>0.059</td>\n",
       "      <td>moderate_symmetry</td>\n",
       "      <td>moderate_compact</td>\n",
       "    </tr>\n",
       "    <tr>\n",
       "      <th>...</th>\n",
       "      <td>...</td>\n",
       "      <td>...</td>\n",
       "      <td>...</td>\n",
       "      <td>...</td>\n",
       "      <td>...</td>\n",
       "      <td>...</td>\n",
       "      <td>...</td>\n",
       "      <td>...</td>\n",
       "      <td>...</td>\n",
       "      <td>...</td>\n",
       "    </tr>\n",
       "    <tr>\n",
       "      <th>95</th>\n",
       "      <td>Malignant</td>\n",
       "      <td>23</td>\n",
       "      <td>16</td>\n",
       "      <td>132</td>\n",
       "      <td>1264</td>\n",
       "      <td>0.091</td>\n",
       "      <td>0.131</td>\n",
       "      <td>0.056</td>\n",
       "      <td>high_symmetry</td>\n",
       "      <td>moderate_compact</td>\n",
       "    </tr>\n",
       "    <tr>\n",
       "      <th>96</th>\n",
       "      <td>Benign</td>\n",
       "      <td>22</td>\n",
       "      <td>14</td>\n",
       "      <td>78</td>\n",
       "      <td>451</td>\n",
       "      <td>0.105</td>\n",
       "      <td>0.071</td>\n",
       "      <td>0.066</td>\n",
       "      <td>moderate_symmetry</td>\n",
       "      <td>low_compact</td>\n",
       "    </tr>\n",
       "    <tr>\n",
       "      <th>97</th>\n",
       "      <td>Benign</td>\n",
       "      <td>19</td>\n",
       "      <td>27</td>\n",
       "      <td>62</td>\n",
       "      <td>295</td>\n",
       "      <td>0.102</td>\n",
       "      <td>0.053</td>\n",
       "      <td>0.069</td>\n",
       "      <td>mild_symmetry</td>\n",
       "      <td>low_compact</td>\n",
       "    </tr>\n",
       "    <tr>\n",
       "      <th>98</th>\n",
       "      <td>Benign</td>\n",
       "      <td>21</td>\n",
       "      <td>24</td>\n",
       "      <td>74</td>\n",
       "      <td>413</td>\n",
       "      <td>0.090</td>\n",
       "      <td>0.075</td>\n",
       "      <td>0.066</td>\n",
       "      <td>moderate_symmetry</td>\n",
       "      <td>low_compact</td>\n",
       "    </tr>\n",
       "    <tr>\n",
       "      <th>99</th>\n",
       "      <td>Malignant</td>\n",
       "      <td>16</td>\n",
       "      <td>27</td>\n",
       "      <td>94</td>\n",
       "      <td>643</td>\n",
       "      <td>0.098</td>\n",
       "      <td>0.114</td>\n",
       "      <td>0.064</td>\n",
       "      <td>moderate_symmetry</td>\n",
       "      <td>moderate_compact</td>\n",
       "    </tr>\n",
       "  </tbody>\n",
       "</table>\n",
       "<p>100 rows × 10 columns</p>\n",
       "</div>"
      ],
      "text/plain": [
       "   diagnosis_result  radius  texture  perimeter  area  smoothness  \\\n",
       "0         Malignant      23       12        151   954       0.143   \n",
       "1            Benign       9       13        133  1326       0.143   \n",
       "2         Malignant      21       27        130  1203       0.125   \n",
       "3         Malignant      14       16         78   386       0.070   \n",
       "4         Malignant       9       19        135  1297       0.141   \n",
       "..              ...     ...      ...        ...   ...         ...   \n",
       "95        Malignant      23       16        132  1264       0.091   \n",
       "96           Benign      22       14         78   451       0.105   \n",
       "97           Benign      19       27         62   295       0.102   \n",
       "98           Benign      21       24         74   413       0.090   \n",
       "99        Malignant      16       27         94   643       0.098   \n",
       "\n",
       "    compactness  fractal_dimension  symmetry_category compactness_category  \n",
       "0         0.278              0.079      high_symmetry         high_compact  \n",
       "1         0.079              0.057  moderate_symmetry          low_compact  \n",
       "2         0.160              0.060      high_symmetry     moderate_compact  \n",
       "3         0.284              0.097      high_symmetry         high_compact  \n",
       "4         0.133              0.059  moderate_symmetry     moderate_compact  \n",
       "..          ...                ...                ...                  ...  \n",
       "95        0.131              0.056      high_symmetry     moderate_compact  \n",
       "96        0.071              0.066  moderate_symmetry          low_compact  \n",
       "97        0.053              0.069      mild_symmetry          low_compact  \n",
       "98        0.075              0.066  moderate_symmetry          low_compact  \n",
       "99        0.114              0.064  moderate_symmetry     moderate_compact  \n",
       "\n",
       "[100 rows x 10 columns]"
      ]
     },
     "execution_count": 30,
     "metadata": {},
     "output_type": "execute_result"
    }
   ],
   "source": [
    "# we don't need this feature anymore let's get rid of it\n",
    "data.drop(['symmetry'],axis=1,inplace=True)\n",
    "data"
   ]
  },
  {
   "cell_type": "code",
   "execution_count": 31,
   "id": "cee49b15",
   "metadata": {},
   "outputs": [
    {
     "data": {
      "text/plain": [
       "<AxesSubplot:>"
      ]
     },
     "execution_count": 31,
     "metadata": {},
     "output_type": "execute_result"
    },
    {
     "data": {
      "image/png": "[encoded data removed]",
      "text/plain": [
       "<Figure size 1080x1080 with 2 Axes>"
      ]
     },
     "metadata": {},
     "output_type": "display_data"
    }
   ],
   "source": [
    "#let's check the correlation of data\n",
    "plt.subplots(figsize = (15, 15))\n",
    "sns.heatmap(data.corr(), annot = True)"
   ]
  },
  {
   "cell_type": "markdown",
   "id": "d6609c5e",
   "metadata": {},
   "source": [
    "### The 3 most correlated are:\n",
    "- perimeter\n",
    "- area\n",
    "- compactness"
   ]
  },
  {
   "cell_type": "code",
   "execution_count": 32,
   "id": "80218375",
   "metadata": {},
   "outputs": [
    {
     "data": {
      "text/plain": [
       "<AxesSubplot:xlabel='perimeter', ylabel='Density'>"
      ]
     },
     "execution_count": 32,
     "metadata": {},
     "output_type": "execute_result"
    },
    {
     "data": {
      "image/png": "[encoded data removed]",
      "text/plain": [
       "<Figure size 576x576 with 1 Axes>"
      ]
     },
     "metadata": {},
     "output_type": "display_data"
    }
   ],
   "source": [
    "plt.figure(figsize=(8,8))\n",
    "sns.distplot(data['perimeter'], hist = False, kde = True,\n",
    "                 kde_kws = {'shade': True, 'linewidth': 3})"
   ]
  },
  {
   "cell_type": "code",
   "execution_count": 33,
   "id": "c3c4eb01",
   "metadata": {},
   "outputs": [
    {
     "data": {
      "image/png": "[encoded data removed]",
      "text/plain": [
       "<Figure size 576x576 with 1 Axes>"
      ]
     },
     "metadata": {},
     "output_type": "display_data"
    }
   ],
   "source": [
    "plt.figure(figsize=(8, 8))\n",
    "plt.title(\" perimeter Distribution with target\")\n",
    "sns.histplot(data=data, x='perimeter', kde=True, hue='diagnosis_result', multiple='stack', palette='Set2')\n",
    "plt.show()\n"
   ]
  },
  {
   "cell_type": "markdown",
   "id": "c50703c2",
   "metadata": {},
   "source": [
    "### observation\n",
    "- It seems that the distribution is left-skewed which means most of the tumors' perimeters are located between 80-100\n",
    "- The probability of the tumor to be benign increases as we go down the perimeter (less than 100)"
   ]
  },
  {
   "cell_type": "code",
   "execution_count": 34,
   "id": "b354f312",
   "metadata": {},
   "outputs": [
    {
     "data": {
      "image/png": "[encoded data removed]",
      "text/plain": [
       "<Figure size 576x576 with 1 Axes>"
      ]
     },
     "metadata": {},
     "output_type": "display_data"
    }
   ],
   "source": [
    "plt.figure(figsize=(8,8))\n",
    "plt.title(\" perimeter Distribution\")\n",
    "sns.histplot(data=data, x='area', kde=True, color = 'purple')\n",
    "plt.show()"
   ]
  },
  {
   "cell_type": "code",
   "execution_count": 35,
   "id": "d77a1d91",
   "metadata": {},
   "outputs": [
    {
     "data": {
      "image/png": "[encoded data removed]",
      "text/plain": [
       "<Figure size 576x576 with 1 Axes>"
      ]
     },
     "metadata": {},
     "output_type": "display_data"
    }
   ],
   "source": [
    "plt.figure(figsize=(8, 8))\n",
    "plt.title(\" area Distribution with target\")\n",
    "sns.histplot(data=data, x='area', kde=True, hue='diagnosis_result', multiple='stack', palette='Set1')\n",
    "plt.show()\n"
   ]
  },
  {
   "cell_type": "markdown",
   "id": "2382cb9d",
   "metadata": {},
   "source": [
    "### observation\n",
    "- It seems that the distribution of area declares that the benign probability increaes as the area decreases down 750."
   ]
  },
  {
   "cell_type": "code",
   "execution_count": 36,
   "id": "2de0cb42",
   "metadata": {},
   "outputs": [
    {
     "data": {
      "text/plain": [
       "<AxesSubplot:xlabel='compactness', ylabel='Density'>"
      ]
     },
     "execution_count": 36,
     "metadata": {},
     "output_type": "execute_result"
    },
    {
     "data": {
      "image/png": "[encoded data removed]",
      "text/plain": [
       "<Figure size 576x576 with 1 Axes>"
      ]
     },
     "metadata": {},
     "output_type": "display_data"
    }
   ],
   "source": [
    "plt.figure(figsize=(8,8))\n",
    "sns.distplot(data['compactness'], hist = False, kde = True,\n",
    "                 kde_kws = {'shade': True, 'linewidth': 3})"
   ]
  },
  {
   "cell_type": "markdown",
   "id": "d83e3501",
   "metadata": {},
   "source": [
    "### observation\n",
    "- It seems that the comapctness distribution is left-skewed and the peak is found at 0.1."
   ]
  },
  {
   "cell_type": "code",
   "execution_count": 37,
   "id": "34ac2502",
   "metadata": {},
   "outputs": [
    {
     "data": {
      "image/png": "[encoded data removed]",
      "text/plain": [
       "<Figure size 432x288 with 1 Axes>"
      ]
     },
     "metadata": {},
     "output_type": "display_data"
    }
   ],
   "source": [
    "# Create a kernel density plot with different shades for the two classes\n",
    "sns.distplot(data[data['diagnosis_result'] == 'Malignant']['compactness'], hist=False, kde=True, kde_kws={'shade': True, 'linewidth': 3}, label='Malignant')\n",
    "sns.distplot(data[data['diagnosis_result'] == 'Benign']['compactness'], hist=False, kde=True, kde_kws={'shade': True, 'linewidth': 3}, label='Benign')\n",
    "\n",
    "plt.title('Kernel Density Plot for compactness by Diagnosis Result')\n",
    "plt.xlabel('compactness')\n",
    "plt.ylabel('Density')\n",
    "plt.legend()\n",
    "plt.show()"
   ]
  },
  {
   "cell_type": "markdown",
   "id": "7eb7ac8d",
   "metadata": {},
   "source": [
    "### observation\n",
    "- Higher benign probability found less than compactness of 0.1 while probability of malignant increases between 0.1 and 0.2"
   ]
  },
  {
   "cell_type": "code",
   "execution_count": 38,
   "id": "d9d903ea",
   "metadata": {},
   "outputs": [
    {
     "data": {
      "image/png": "[encoded data removed]",
      "text/plain": [
       "<Figure size 1080x1080 with 20 Axes>"
      ]
     },
     "metadata": {},
     "output_type": "display_data"
    }
   ],
   "source": [
    "# showing outliers\n",
    "data.plot(kind = \"box\" , subplots = True , layout= (5,4), figsize =(15,15) )\n",
    "plt.show()"
   ]
  },
  {
   "cell_type": "code",
   "execution_count": 39,
   "id": "8ed71992",
   "metadata": {},
   "outputs": [],
   "source": [
    "def z_score(df, threshold=1):\n",
    "    mean, std = np.mean(df), np.std(df)\n",
    "    z_score = np.abs((df - mean) / std)\n",
    "    not_outliers = z_score < threshold\n",
    "    print(f\"z-score of {threshold} corresponds to a prob of {100 * 2 * norm.sf(3):0.2f}%\")\n",
    "    print(f\"Rejection {(~not_outliers).sum()} points\")\n",
    "    return not_outliers"
   ]
  },
  {
   "cell_type": "code",
   "execution_count": 40,
   "id": "5c17c6e5",
   "metadata": {},
   "outputs": [],
   "source": [
    "def interquartile(col):\n",
    "    index = []\n",
    "    outliers = []\n",
    "    quantile1, quantile3 = np.percentile(col,[25,75])\n",
    "    iqr_value = quantile3 - quantile1\n",
    "    lower_bound_val = quantile1 -(1.5 * iqr_value) \n",
    "    upper_bound_val = quantile3 +(1.5 * iqr_value) \n",
    "    print(f\"The lower Bound {lower_bound_val} and the upper bound {upper_bound_val}\")\n",
    "    for i in range(len(col)):\n",
    "        if col[i] < lower_bound_val or col[i] > upper_bound_val :\n",
    "            index.append(i)\n",
    "            outliers.append(col[i])\n",
    "    return outliers, index"
   ]
  },
  {
   "cell_type": "markdown",
   "id": "9fcd6e74",
   "metadata": {},
   "source": [
    "### Perimeter"
   ]
  },
  {
   "cell_type": "code",
   "execution_count": 41,
   "id": "74d9999f",
   "metadata": {},
   "outputs": [
    {
     "name": "stdout",
     "output_type": "stream",
     "text": [
      "z-score of 2 corresponds to a prob of 0.27%\n",
      "Rejection 3 points\n",
      "z-score of 3 corresponds to a prob of 0.27%\n",
      "Rejection 1 points\n"
     ]
    },
    {
     "data": {
      "image/png": "[encoded data removed]",
      "text/plain": [
       "<Figure size 720x360 with 2 Axes>"
      ]
     },
     "metadata": {},
     "output_type": "display_data"
    }
   ],
   "source": [
    "plt.figure(figsize=(10, 5))\n",
    "\n",
    "for i, threshold in zip(range(1, 3), range(2, 4)):\n",
    "    plt.subplot(1, 2, i)\n",
    "    visual_scatter = np.random.normal(size=data.shape[0])\n",
    "    not_outliers = z_score(data['perimeter'], threshold=threshold)\n",
    "    plt.scatter(data['perimeter'][not_outliers], visual_scatter[not_outliers], s=10, label=\"Not Outliers\", color=\"#4CAF50\")\n",
    "    plt.scatter(data['perimeter'][~not_outliers], visual_scatter[~not_outliers], s=10, label=\"Outliers\", color=\"#F44336\")\n",
    "    plt.legend()\n",
    "    plt.title(f\"Sale Price Outliers (threshold={threshold})\")\n",
    "\n",
    "plt.tight_layout()"
   ]
  },
  {
   "cell_type": "code",
   "execution_count": 42,
   "id": "32a65b28",
   "metadata": {},
   "outputs": [
    {
     "name": "stdout",
     "output_type": "stream",
     "text": [
      "The lower Bound 34.875 and the upper bound 161.875\n"
     ]
    },
    {
     "data": {
      "text/plain": [
       "[82]"
      ]
     },
     "execution_count": 42,
     "metadata": {},
     "output_type": "execute_result"
    }
   ],
   "source": [
    "perimeter_outliers, perimeter_outliers_index = interquartile(data['perimeter'])\n",
    "perimeter_outliers_index"
   ]
  },
  {
   "cell_type": "code",
   "execution_count": 43,
   "id": "7279aee8",
   "metadata": {},
   "outputs": [],
   "source": [
    "mean = np.mean(data['perimeter'])\n",
    "data.loc[perimeter_outliers_index[0], 'perimeter'] = mean"
   ]
  },
  {
   "cell_type": "markdown",
   "id": "5dc30207",
   "metadata": {},
   "source": [
    "# Area"
   ]
  },
  {
   "cell_type": "code",
   "execution_count": 44,
   "id": "fb6be0ea",
   "metadata": {},
   "outputs": [
    {
     "name": "stdout",
     "output_type": "stream",
     "text": [
      "z-score of 2 corresponds to a prob of 0.27%\n",
      "Rejection 2 points\n",
      "z-score of 3 corresponds to a prob of 0.27%\n",
      "Rejection 1 points\n"
     ]
    },
    {
     "data": {
      "image/png": "[encoded data removed]",
      "text/plain": [
       "<Figure size 720x360 with 2 Axes>"
      ]
     },
     "metadata": {},
     "output_type": "display_data"
    }
   ],
   "source": [
    "plt.figure(figsize=(10, 5))\n",
    "\n",
    "for i, threshold in zip(range(1, 3), range(2, 4)):\n",
    "    plt.subplot(1, 2, i)\n",
    "    visual_scatter = np.random.normal(size=data.shape[0])\n",
    "    not_outliers = z_score(data['area'], threshold=threshold)\n",
    "    plt.scatter(data['area'][not_outliers], visual_scatter[not_outliers], s=10, label=\"Not Outliers\", color=\"#FF00FF\")\n",
    "    plt.scatter(data['area'][~not_outliers], visual_scatter[~not_outliers], s=10, label=\"Outliers\", color=\"#00008B\")\n",
    "    plt.legend()\n",
    "    plt.title(f\"Area Outliers (threshold={threshold})\")\n",
    "\n",
    "plt.tight_layout()"
   ]
  },
  {
   "cell_type": "code",
   "execution_count": 45,
   "id": "a128daa0",
   "metadata": {},
   "outputs": [
    {
     "name": "stdout",
     "output_type": "stream",
     "text": [
      "The lower Bound -183.625 and the upper bound 1577.375\n",
      "[1878]\n"
     ]
    }
   ],
   "source": [
    "area_outliers, area_outliers_index = interquartile(data['area'])\n",
    "print(area_outliers)\n",
    "mean = np.mean(data['area'])\n",
    "data.loc[area_outliers_index[0], 'area'] = mean"
   ]
  },
  {
   "cell_type": "markdown",
   "id": "a629264f",
   "metadata": {},
   "source": [
    "### Smoothness"
   ]
  },
  {
   "cell_type": "code",
   "execution_count": 46,
   "id": "6ce660ac",
   "metadata": {},
   "outputs": [
    {
     "name": "stdout",
     "output_type": "stream",
     "text": [
      "z-score of 2 corresponds to a prob of 0.27%\n",
      "Rejection 4 points\n",
      "z-score of 3 corresponds to a prob of 0.27%\n",
      "Rejection 0 points\n"
     ]
    },
    {
     "data": {
      "image/png": "[encoded data removed]",
      "text/plain": [
       "<Figure size 720x360 with 2 Axes>"
      ]
     },
     "metadata": {},
     "output_type": "display_data"
    }
   ],
   "source": [
    "plt.figure(figsize=(10, 5))\n",
    "\n",
    "for i, threshold in zip(range(1, 3), range(2, 4)):\n",
    "    plt.subplot(1, 2, i)\n",
    "    visual_scatter = np.random.normal(size=data.shape[0])\n",
    "    not_outliers = z_score(data['smoothness'], threshold=threshold)\n",
    "    plt.scatter(data['smoothness'][not_outliers], visual_scatter[not_outliers], s=10, label=\"Not Outliers\", color=\"#800000\")\n",
    "    plt.scatter(data['smoothness'][~not_outliers], visual_scatter[~not_outliers], s=10, label=\"Outliers\", color=\"#00FFFF\")\n",
    "    plt.legend()\n",
    "    plt.title(f\"Smoothness Outliers (threshold={threshold})\")\n",
    "\n",
    "plt.tight_layout()"
   ]
  },
  {
   "cell_type": "code",
   "execution_count": 47,
   "id": "bd8c1084",
   "metadata": {},
   "outputs": [
    {
     "name": "stdout",
     "output_type": "stream",
     "text": [
      "The lower Bound 0.06575 and the upper bound 0.13975\n",
      "[0.143, 0.143, 0.141]\n"
     ]
    }
   ],
   "source": [
    "smoothness_outliers, smoothness_outliers_index = interquartile(data['smoothness'])\n",
    "print(smoothness_outliers)\n",
    "mean = np.mean(data['smoothness'])\n",
    "for i in smoothness_outliers_index:\n",
    "    data.loc[i, 'smoothness'] = mean"
   ]
  },
  {
   "cell_type": "code",
   "execution_count": 48,
   "id": "010167b6",
   "metadata": {},
   "outputs": [
    {
     "data": {
      "text/html": [
       "<div>\n",
       "<style scoped>\n",
       "    .dataframe tbody tr th:only-of-type {\n",
       "        vertical-align: middle;\n",
       "    }\n",
       "\n",
       "    .dataframe tbody tr th {\n",
       "        vertical-align: top;\n",
       "    }\n",
       "\n",
       "    .dataframe thead th {\n",
       "        text-align: right;\n",
       "    }\n",
       "</style>\n",
       "<table border=\"1\" class=\"dataframe\">\n",
       "  <thead>\n",
       "    <tr style=\"text-align: right;\">\n",
       "      <th></th>\n",
       "      <th>diagnosis_result</th>\n",
       "      <th>radius</th>\n",
       "      <th>texture</th>\n",
       "      <th>perimeter</th>\n",
       "      <th>area</th>\n",
       "      <th>smoothness</th>\n",
       "      <th>compactness</th>\n",
       "      <th>fractal_dimension</th>\n",
       "      <th>symmetry_category</th>\n",
       "      <th>compactness_category</th>\n",
       "    </tr>\n",
       "  </thead>\n",
       "  <tbody>\n",
       "    <tr>\n",
       "      <th>0</th>\n",
       "      <td>Malignant</td>\n",
       "      <td>23</td>\n",
       "      <td>12</td>\n",
       "      <td>151.0</td>\n",
       "      <td>954.0</td>\n",
       "      <td>0.10273</td>\n",
       "      <td>0.278</td>\n",
       "      <td>0.079</td>\n",
       "      <td>high_symmetry</td>\n",
       "      <td>high_compact</td>\n",
       "    </tr>\n",
       "    <tr>\n",
       "      <th>1</th>\n",
       "      <td>Benign</td>\n",
       "      <td>9</td>\n",
       "      <td>13</td>\n",
       "      <td>133.0</td>\n",
       "      <td>1326.0</td>\n",
       "      <td>0.10273</td>\n",
       "      <td>0.079</td>\n",
       "      <td>0.057</td>\n",
       "      <td>moderate_symmetry</td>\n",
       "      <td>low_compact</td>\n",
       "    </tr>\n",
       "    <tr>\n",
       "      <th>2</th>\n",
       "      <td>Malignant</td>\n",
       "      <td>21</td>\n",
       "      <td>27</td>\n",
       "      <td>130.0</td>\n",
       "      <td>1203.0</td>\n",
       "      <td>0.12500</td>\n",
       "      <td>0.160</td>\n",
       "      <td>0.060</td>\n",
       "      <td>high_symmetry</td>\n",
       "      <td>moderate_compact</td>\n",
       "    </tr>\n",
       "    <tr>\n",
       "      <th>3</th>\n",
       "      <td>Malignant</td>\n",
       "      <td>14</td>\n",
       "      <td>16</td>\n",
       "      <td>78.0</td>\n",
       "      <td>386.0</td>\n",
       "      <td>0.07000</td>\n",
       "      <td>0.284</td>\n",
       "      <td>0.097</td>\n",
       "      <td>high_symmetry</td>\n",
       "      <td>high_compact</td>\n",
       "    </tr>\n",
       "    <tr>\n",
       "      <th>4</th>\n",
       "      <td>Malignant</td>\n",
       "      <td>9</td>\n",
       "      <td>19</td>\n",
       "      <td>135.0</td>\n",
       "      <td>1297.0</td>\n",
       "      <td>0.10273</td>\n",
       "      <td>0.133</td>\n",
       "      <td>0.059</td>\n",
       "      <td>moderate_symmetry</td>\n",
       "      <td>moderate_compact</td>\n",
       "    </tr>\n",
       "    <tr>\n",
       "      <th>...</th>\n",
       "      <td>...</td>\n",
       "      <td>...</td>\n",
       "      <td>...</td>\n",
       "      <td>...</td>\n",
       "      <td>...</td>\n",
       "      <td>...</td>\n",
       "      <td>...</td>\n",
       "      <td>...</td>\n",
       "      <td>...</td>\n",
       "      <td>...</td>\n",
       "    </tr>\n",
       "    <tr>\n",
       "      <th>95</th>\n",
       "      <td>Malignant</td>\n",
       "      <td>23</td>\n",
       "      <td>16</td>\n",
       "      <td>132.0</td>\n",
       "      <td>1264.0</td>\n",
       "      <td>0.09100</td>\n",
       "      <td>0.131</td>\n",
       "      <td>0.056</td>\n",
       "      <td>high_symmetry</td>\n",
       "      <td>moderate_compact</td>\n",
       "    </tr>\n",
       "    <tr>\n",
       "      <th>96</th>\n",
       "      <td>Benign</td>\n",
       "      <td>22</td>\n",
       "      <td>14</td>\n",
       "      <td>78.0</td>\n",
       "      <td>451.0</td>\n",
       "      <td>0.10500</td>\n",
       "      <td>0.071</td>\n",
       "      <td>0.066</td>\n",
       "      <td>moderate_symmetry</td>\n",
       "      <td>low_compact</td>\n",
       "    </tr>\n",
       "    <tr>\n",
       "      <th>97</th>\n",
       "      <td>Benign</td>\n",
       "      <td>19</td>\n",
       "      <td>27</td>\n",
       "      <td>62.0</td>\n",
       "      <td>295.0</td>\n",
       "      <td>0.10200</td>\n",
       "      <td>0.053</td>\n",
       "      <td>0.069</td>\n",
       "      <td>mild_symmetry</td>\n",
       "      <td>low_compact</td>\n",
       "    </tr>\n",
       "    <tr>\n",
       "      <th>98</th>\n",
       "      <td>Benign</td>\n",
       "      <td>21</td>\n",
       "      <td>24</td>\n",
       "      <td>74.0</td>\n",
       "      <td>413.0</td>\n",
       "      <td>0.09000</td>\n",
       "      <td>0.075</td>\n",
       "      <td>0.066</td>\n",
       "      <td>moderate_symmetry</td>\n",
       "      <td>low_compact</td>\n",
       "    </tr>\n",
       "    <tr>\n",
       "      <th>99</th>\n",
       "      <td>Malignant</td>\n",
       "      <td>16</td>\n",
       "      <td>27</td>\n",
       "      <td>94.0</td>\n",
       "      <td>643.0</td>\n",
       "      <td>0.09800</td>\n",
       "      <td>0.114</td>\n",
       "      <td>0.064</td>\n",
       "      <td>moderate_symmetry</td>\n",
       "      <td>moderate_compact</td>\n",
       "    </tr>\n",
       "  </tbody>\n",
       "</table>\n",
       "<p>100 rows × 10 columns</p>\n",
       "</div>"
      ],
      "text/plain": [
       "   diagnosis_result  radius  texture  perimeter    area  smoothness  \\\n",
       "0         Malignant      23       12      151.0   954.0     0.10273   \n",
       "1            Benign       9       13      133.0  1326.0     0.10273   \n",
       "2         Malignant      21       27      130.0  1203.0     0.12500   \n",
       "3         Malignant      14       16       78.0   386.0     0.07000   \n",
       "4         Malignant       9       19      135.0  1297.0     0.10273   \n",
       "..              ...     ...      ...        ...     ...         ...   \n",
       "95        Malignant      23       16      132.0  1264.0     0.09100   \n",
       "96           Benign      22       14       78.0   451.0     0.10500   \n",
       "97           Benign      19       27       62.0   295.0     0.10200   \n",
       "98           Benign      21       24       74.0   413.0     0.09000   \n",
       "99        Malignant      16       27       94.0   643.0     0.09800   \n",
       "\n",
       "    compactness  fractal_dimension  symmetry_category compactness_category  \n",
       "0         0.278              0.079      high_symmetry         high_compact  \n",
       "1         0.079              0.057  moderate_symmetry          low_compact  \n",
       "2         0.160              0.060      high_symmetry     moderate_compact  \n",
       "3         0.284              0.097      high_symmetry         high_compact  \n",
       "4         0.133              0.059  moderate_symmetry     moderate_compact  \n",
       "..          ...                ...                ...                  ...  \n",
       "95        0.131              0.056      high_symmetry     moderate_compact  \n",
       "96        0.071              0.066  moderate_symmetry          low_compact  \n",
       "97        0.053              0.069      mild_symmetry          low_compact  \n",
       "98        0.075              0.066  moderate_symmetry          low_compact  \n",
       "99        0.114              0.064  moderate_symmetry     moderate_compact  \n",
       "\n",
       "[100 rows x 10 columns]"
      ]
     },
     "execution_count": 48,
     "metadata": {},
     "output_type": "execute_result"
    }
   ],
   "source": [
    "data\n"
   ]
  },
  {
   "cell_type": "markdown",
   "id": "3fec30b9",
   "metadata": {},
   "source": [
    "### Compactness"
   ]
  },
  {
   "cell_type": "code",
   "execution_count": 49,
   "id": "8cc2d23d",
   "metadata": {},
   "outputs": [
    {
     "name": "stdout",
     "output_type": "stream",
     "text": [
      "z-score of 2 corresponds to a prob of 0.27%\n",
      "Rejection 4 points\n",
      "z-score of 3 corresponds to a prob of 0.27%\n",
      "Rejection 1 points\n"
     ]
    },
    {
     "data": {
      "image/png": "[encoded data removed]",
      "text/plain": [
       "<Figure size 720x360 with 2 Axes>"
      ]
     },
     "metadata": {},
     "output_type": "display_data"
    }
   ],
   "source": [
    "plt.figure(figsize=(10, 5))\n",
    "\n",
    "for i, threshold in zip(range(1, 3), range(2, 4)):\n",
    "    plt.subplot(1, 2, i)\n",
    "    visual_scatter = np.random.normal(size=data.shape[0])\n",
    "    not_outliers = z_score(data['compactness'], threshold=threshold)\n",
    "    plt.scatter(data['compactness'][not_outliers], visual_scatter[not_outliers], s=10, label=\"Not Outliers\", color=\"#800080\")\n",
    "    plt.scatter(data['compactness'][~not_outliers], visual_scatter[~not_outliers], s=10, label=\"Outliers\", color=\"#FFA500\")\n",
    "    plt.legend()\n",
    "    plt.title(f\"Compactness Outliers (threshold={threshold})\")\n",
    "\n",
    "plt.tight_layout()"
   ]
  },
  {
   "cell_type": "code",
   "execution_count": 50,
   "id": "f0d263de",
   "metadata": {},
   "outputs": [
    {
     "name": "stdout",
     "output_type": "stream",
     "text": [
      "The lower Bound -0.03424999999999999 and the upper bound 0.27175\n",
      "[0.278, 0.284, 0.345]\n"
     ]
    }
   ],
   "source": [
    "compactness_outliers, compactness_outliers_index = interquartile(data['compactness'])\n",
    "print(compactness_outliers)\n",
    "mean = np.mean(data['compactness'])\n",
    "for i in compactness_outliers_index:\n",
    "    data.loc[i, 'compactness'] = mean"
   ]
  },
  {
   "cell_type": "markdown",
   "id": "139b6ae1",
   "metadata": {},
   "source": [
    "### Fractal dimension"
   ]
  },
  {
   "cell_type": "code",
   "execution_count": 51,
   "id": "4c4becf4",
   "metadata": {},
   "outputs": [
    {
     "name": "stdout",
     "output_type": "stream",
     "text": [
      "z-score of 2 corresponds to a prob of 0.27%\n",
      "Rejection 4 points\n",
      "z-score of 3 corresponds to a prob of 0.27%\n",
      "Rejection 2 points\n"
     ]
    },
    {
     "data": {
      "image/png": "[encoded data removed]",
      "text/plain": [
       "<Figure size 720x360 with 2 Axes>"
      ]
     },
     "metadata": {},
     "output_type": "display_data"
    }
   ],
   "source": [
    "plt.figure(figsize=(10, 5))\n",
    "\n",
    "for i, threshold in zip(range(1, 3), range(2, 4)):\n",
    "    plt.subplot(1, 2, i)\n",
    "    visual_scatter = np.random.normal(size=data.shape[0])\n",
    "    not_outliers_fractal_dimension = z_score(data['fractal_dimension'], threshold=threshold)\n",
    "    plt.scatter(data['fractal_dimension'][not_outliers], visual_scatter[not_outliers], s=10, label=\"Not Outliers\", color=\"#FFA500\")\n",
    "    plt.scatter(data['fractal_dimension'][~not_outliers], visual_scatter[~not_outliers], s=10, label=\"Outliers\", color=\"#800000\")\n",
    "    plt.legend()\n",
    "    plt.title(f\"fractal dimension(threshold={threshold})\")\n",
    "\n",
    "plt.tight_layout()"
   ]
  },
  {
   "cell_type": "code",
   "execution_count": 52,
   "id": "496594bf",
   "metadata": {},
   "outputs": [
    {
     "name": "stdout",
     "output_type": "stream",
     "text": [
      "The lower Bound 0.043999999999999984 and the upper bound 0.08400000000000002\n",
      "[0.097, 0.09]\n"
     ]
    }
   ],
   "source": [
    "fractal_dimension_outliers, fractal_dimension_outliers_index = interquartile(data['fractal_dimension'])\n",
    "print(fractal_dimension_outliers)\n",
    "mean = np.mean(data['fractal_dimension'])\n",
    "for i in fractal_dimension_outliers_index:\n",
    "    data.loc[i, 'fractal_dimension'] = mean"
   ]
  },
  {
   "cell_type": "markdown",
   "id": "30253718",
   "metadata": {},
   "source": [
    "## `Summary:` \n",
    "**Data preparation** \n",
    "  - No missing values.\n",
    "  - no duplications found.\n",
    "  - id columns is dropped.\n",
    "  - we created symmetry_category and removed symmetry.\n",
    "  - Highest outliers exsist in Fractal dimension, so remove it\n",
    "    \n",
    "    \n",
    "**EDA**\n",
    "  - The distribution of malignant tumors in our dataset is more than benign.\n",
    "  - The distribution of moderate symmetry tumors is the highest.\n",
    "  - It seems that the mild symmetry ones are always benign while most of the moderate and high are malignant.\n",
    "  - perimeter,area and compactness are highly correlated.\n",
    "  - It seems that the distribution is left-skewed which means most of the tumors' perimeters are located between 80-100.\n",
    "  - The probability of the tumor to be benign increases as we go down the perimeter (less than 100).\n",
    "  - It seems that the distribution of area declares that the benign probability increaes as the area decreases down 750.\n",
    "  - It seems that the comapctness distribution is left-skewed and the peak is found at 0.1.\n",
    "  \n",
    "  "
   ]
  },
  {
   "cell_type": "markdown",
   "id": "18baf418",
   "metadata": {},
   "source": [
    "## Encoding the Categorical data"
   ]
  },
  {
   "cell_type": "code",
   "execution_count": 53,
   "id": "93153516",
   "metadata": {},
   "outputs": [],
   "source": [
    "# Change the categorical data to numerical data\n",
    "def Encoding(data):\n",
    "    # create the encoder variable\n",
    "    le_encoder = LabelEncoder()\n",
    "    # Extract the categoral data\n",
    "    cat_df = data.select_dtypes(include=['object','category'])\n",
    "    # Encode the categorecal data\n",
    "    for i in cat_df:\n",
    "        data[i] = le_encoder.fit_transform(data[i])\n",
    "    return data"
   ]
  },
  {
   "cell_type": "code",
   "execution_count": 54,
   "id": "3401895a",
   "metadata": {},
   "outputs": [
    {
     "data": {
      "text/html": [
       "<div>\n",
       "<style scoped>\n",
       "    .dataframe tbody tr th:only-of-type {\n",
       "        vertical-align: middle;\n",
       "    }\n",
       "\n",
       "    .dataframe tbody tr th {\n",
       "        vertical-align: top;\n",
       "    }\n",
       "\n",
       "    .dataframe thead th {\n",
       "        text-align: right;\n",
       "    }\n",
       "</style>\n",
       "<table border=\"1\" class=\"dataframe\">\n",
       "  <thead>\n",
       "    <tr style=\"text-align: right;\">\n",
       "      <th></th>\n",
       "      <th>diagnosis_result</th>\n",
       "      <th>radius</th>\n",
       "      <th>texture</th>\n",
       "      <th>perimeter</th>\n",
       "      <th>area</th>\n",
       "      <th>smoothness</th>\n",
       "      <th>compactness</th>\n",
       "      <th>fractal_dimension</th>\n",
       "      <th>symmetry_category</th>\n",
       "      <th>compactness_category</th>\n",
       "    </tr>\n",
       "  </thead>\n",
       "  <tbody>\n",
       "    <tr>\n",
       "      <th>0</th>\n",
       "      <td>1</td>\n",
       "      <td>23</td>\n",
       "      <td>12</td>\n",
       "      <td>151.0</td>\n",
       "      <td>954.0</td>\n",
       "      <td>0.10273</td>\n",
       "      <td>0.1267</td>\n",
       "      <td>0.07900</td>\n",
       "      <td>0</td>\n",
       "      <td>0</td>\n",
       "    </tr>\n",
       "    <tr>\n",
       "      <th>1</th>\n",
       "      <td>0</td>\n",
       "      <td>9</td>\n",
       "      <td>13</td>\n",
       "      <td>133.0</td>\n",
       "      <td>1326.0</td>\n",
       "      <td>0.10273</td>\n",
       "      <td>0.0790</td>\n",
       "      <td>0.05700</td>\n",
       "      <td>2</td>\n",
       "      <td>1</td>\n",
       "    </tr>\n",
       "    <tr>\n",
       "      <th>2</th>\n",
       "      <td>1</td>\n",
       "      <td>21</td>\n",
       "      <td>27</td>\n",
       "      <td>130.0</td>\n",
       "      <td>1203.0</td>\n",
       "      <td>0.12500</td>\n",
       "      <td>0.1600</td>\n",
       "      <td>0.06000</td>\n",
       "      <td>0</td>\n",
       "      <td>2</td>\n",
       "    </tr>\n",
       "    <tr>\n",
       "      <th>3</th>\n",
       "      <td>1</td>\n",
       "      <td>14</td>\n",
       "      <td>16</td>\n",
       "      <td>78.0</td>\n",
       "      <td>386.0</td>\n",
       "      <td>0.07000</td>\n",
       "      <td>0.1267</td>\n",
       "      <td>0.06469</td>\n",
       "      <td>0</td>\n",
       "      <td>0</td>\n",
       "    </tr>\n",
       "    <tr>\n",
       "      <th>4</th>\n",
       "      <td>1</td>\n",
       "      <td>9</td>\n",
       "      <td>19</td>\n",
       "      <td>135.0</td>\n",
       "      <td>1297.0</td>\n",
       "      <td>0.10273</td>\n",
       "      <td>0.1330</td>\n",
       "      <td>0.05900</td>\n",
       "      <td>2</td>\n",
       "      <td>2</td>\n",
       "    </tr>\n",
       "    <tr>\n",
       "      <th>...</th>\n",
       "      <td>...</td>\n",
       "      <td>...</td>\n",
       "      <td>...</td>\n",
       "      <td>...</td>\n",
       "      <td>...</td>\n",
       "      <td>...</td>\n",
       "      <td>...</td>\n",
       "      <td>...</td>\n",
       "      <td>...</td>\n",
       "      <td>...</td>\n",
       "    </tr>\n",
       "    <tr>\n",
       "      <th>95</th>\n",
       "      <td>1</td>\n",
       "      <td>23</td>\n",
       "      <td>16</td>\n",
       "      <td>132.0</td>\n",
       "      <td>1264.0</td>\n",
       "      <td>0.09100</td>\n",
       "      <td>0.1310</td>\n",
       "      <td>0.05600</td>\n",
       "      <td>0</td>\n",
       "      <td>2</td>\n",
       "    </tr>\n",
       "    <tr>\n",
       "      <th>96</th>\n",
       "      <td>0</td>\n",
       "      <td>22</td>\n",
       "      <td>14</td>\n",
       "      <td>78.0</td>\n",
       "      <td>451.0</td>\n",
       "      <td>0.10500</td>\n",
       "      <td>0.0710</td>\n",
       "      <td>0.06600</td>\n",
       "      <td>2</td>\n",
       "      <td>1</td>\n",
       "    </tr>\n",
       "    <tr>\n",
       "      <th>97</th>\n",
       "      <td>0</td>\n",
       "      <td>19</td>\n",
       "      <td>27</td>\n",
       "      <td>62.0</td>\n",
       "      <td>295.0</td>\n",
       "      <td>0.10200</td>\n",
       "      <td>0.0530</td>\n",
       "      <td>0.06900</td>\n",
       "      <td>1</td>\n",
       "      <td>1</td>\n",
       "    </tr>\n",
       "    <tr>\n",
       "      <th>98</th>\n",
       "      <td>0</td>\n",
       "      <td>21</td>\n",
       "      <td>24</td>\n",
       "      <td>74.0</td>\n",
       "      <td>413.0</td>\n",
       "      <td>0.09000</td>\n",
       "      <td>0.0750</td>\n",
       "      <td>0.06600</td>\n",
       "      <td>2</td>\n",
       "      <td>1</td>\n",
       "    </tr>\n",
       "    <tr>\n",
       "      <th>99</th>\n",
       "      <td>1</td>\n",
       "      <td>16</td>\n",
       "      <td>27</td>\n",
       "      <td>94.0</td>\n",
       "      <td>643.0</td>\n",
       "      <td>0.09800</td>\n",
       "      <td>0.1140</td>\n",
       "      <td>0.06400</td>\n",
       "      <td>2</td>\n",
       "      <td>2</td>\n",
       "    </tr>\n",
       "  </tbody>\n",
       "</table>\n",
       "<p>100 rows × 10 columns</p>\n",
       "</div>"
      ],
      "text/plain": [
       "    diagnosis_result  radius  texture  perimeter    area  smoothness  \\\n",
       "0                  1      23       12      151.0   954.0     0.10273   \n",
       "1                  0       9       13      133.0  1326.0     0.10273   \n",
       "2                  1      21       27      130.0  1203.0     0.12500   \n",
       "3                  1      14       16       78.0   386.0     0.07000   \n",
       "4                  1       9       19      135.0  1297.0     0.10273   \n",
       "..               ...     ...      ...        ...     ...         ...   \n",
       "95                 1      23       16      132.0  1264.0     0.09100   \n",
       "96                 0      22       14       78.0   451.0     0.10500   \n",
       "97                 0      19       27       62.0   295.0     0.10200   \n",
       "98                 0      21       24       74.0   413.0     0.09000   \n",
       "99                 1      16       27       94.0   643.0     0.09800   \n",
       "\n",
       "    compactness  fractal_dimension  symmetry_category  compactness_category  \n",
       "0        0.1267            0.07900                  0                     0  \n",
       "1        0.0790            0.05700                  2                     1  \n",
       "2        0.1600            0.06000                  0                     2  \n",
       "3        0.1267            0.06469                  0                     0  \n",
       "4        0.1330            0.05900                  2                     2  \n",
       "..          ...                ...                ...                   ...  \n",
       "95       0.1310            0.05600                  0                     2  \n",
       "96       0.0710            0.06600                  2                     1  \n",
       "97       0.0530            0.06900                  1                     1  \n",
       "98       0.0750            0.06600                  2                     1  \n",
       "99       0.1140            0.06400                  2                     2  \n",
       "\n",
       "[100 rows x 10 columns]"
      ]
     },
     "execution_count": 54,
     "metadata": {},
     "output_type": "execute_result"
    }
   ],
   "source": [
    "encoded_data = Encoding(data)\n",
    "encoded_data"
   ]
  },
  {
   "cell_type": "markdown",
   "id": "9cbe0662",
   "metadata": {},
   "source": [
    "### Spliting data"
   ]
  },
  {
   "cell_type": "code",
   "execution_count": 55,
   "id": "ee71eb4a",
   "metadata": {},
   "outputs": [],
   "source": [
    "x = data.drop(['diagnosis_result','compactness'] , axis = 1).values\n",
    "y = data['diagnosis_result'].values"
   ]
  },
  {
   "cell_type": "code",
   "execution_count": 56,
   "id": "a4e1e6b6",
   "metadata": {},
   "outputs": [],
   "source": [
    "# splitting the data after scaling\n",
    "x_train, x_test, y_train, y_test = train_test_split(x, y,random_state=5, test_size = 0.35)"
   ]
  },
  {
   "cell_type": "markdown",
   "id": "fb3ec0ce",
   "metadata": {},
   "source": [
    "### Scalling data"
   ]
  },
  {
   "cell_type": "code",
   "execution_count": 57,
   "id": "deb689e8",
   "metadata": {},
   "outputs": [],
   "source": [
    "sc = StandardScaler()\n",
    "\n",
    "# Fit and transform the training data\n",
    "x_train_sc = sc.fit_transform(x_train)\n",
    "\n",
    "# Transform the testing data\n",
    "x_test_sc = sc.transform(x_test)"
   ]
  },
  {
   "cell_type": "code",
   "execution_count": 58,
   "id": "223b634b",
   "metadata": {},
   "outputs": [],
   "source": [
    "  def cmatrix_scratch(cm,model_name,color):\n",
    "    # check the confusion matrix\n",
    "\n",
    "    # Plot the CM\n",
    "    ax = sns.heatmap(cm/np.sum(cm), annot=True, fmt='.2%', cmap=color)\n",
    "\n",
    "    ax.set_title(f'The confusion matrix using {model_name} Classifier \\n\\n');\n",
    "    ax.set_xlabel('\\nPredicted Values')\n",
    "    ax.set_ylabel('Actual Values ');\n",
    "\n",
    "    # Ticket labels - List must be in alphabetical order\n",
    "    ax.xaxis.set_ticklabels(['False','True'])\n",
    "    ax.yaxis.set_ticklabels(['False','True'])\n"
   ]
  },
  {
   "cell_type": "code",
   "execution_count": 59,
   "id": "f13686e4",
   "metadata": {},
   "outputs": [],
   "source": [
    "def calculate_accuracy(y_true, y_pred):\n",
    "    correct = np.sum(y_true == y_pred)\n",
    "    total = len(y_true)\n",
    "    return correct / total\n",
    "\n",
    "\n",
    "def calculate_precision(y_true, y_pred, positive_class=1):\n",
    "    true_positive = np.sum((y_true == positive_class) & (y_pred == positive_class))\n",
    "    false_positive = np.sum((y_true != positive_class) & (y_pred == positive_class))\n",
    "    return true_positive / (true_positive + false_positive)\n",
    "\n",
    "\n",
    "\n",
    "def calculate_recall(y_true, y_pred, positive_class=1):\n",
    "    true_positive = np.sum((y_true == positive_class) & (y_pred == positive_class))\n",
    "    false_negative = np.sum((y_true == positive_class) & (y_pred != positive_class))\n",
    "    return true_positive / (true_positive + false_negative)\n",
    "\n",
    "\n",
    "def calculate_f1_score(y_true, y_pred, positive_class=1):\n",
    "    precision_val = calculate_precision(y_true, y_pred, positive_class)\n",
    "    recall_val = calculate_recall(y_true, y_pred, positive_class)\n",
    "    return 2 * (precision_val * recall_val) / (precision_val + recall_val)\n",
    "\n",
    "\n",
    "def Implement_confusion_matrix(y_true, y_pred):\n",
    "    unique_classes = np.unique(np.concatenate([y_true, y_pred]))\n",
    "    num_classes = len(unique_classes)\n",
    "    cm = np.zeros((num_classes, num_classes), dtype=int)\n",
    "\n",
    "    for i in range(num_classes):\n",
    "        for j in range(num_classes):\n",
    "            cm[i, j] = np.sum((y_true == unique_classes[i]) & (y_pred == unique_classes[j]))\n",
    "\n",
    "    return cm\n",
    "\n",
    "\n",
    "def plot_confusion_matrix(cm, classes, title='Confusion Matrix', cmap=plt.cm.Blues):\n",
    "    plt.imshow(cm, interpolation='nearest', cmap=cmap)\n",
    "    plt.title(title)\n",
    "    plt.colorbar()\n",
    "\n",
    "    tick_marks = np.arange(len(classes))\n",
    "    plt.xticks(tick_marks, classes, rotation=45)\n",
    "    plt.yticks(tick_marks, classes)\n",
    "\n",
    "    plt.ylabel('True label')\n",
    "    plt.xlabel('Predicted label')\n",
    "    plt.show()"
   ]
  },
  {
   "cell_type": "markdown",
   "id": "e083e094",
   "metadata": {},
   "source": [
    "### KNN from scratch implementation"
   ]
  },
  {
   "cell_type": "code",
   "execution_count": 60,
   "id": "b7c56246",
   "metadata": {},
   "outputs": [],
   "source": [
    "# Measuring ecludian distance between two points\n",
    "def eucledian(p1,p2):\n",
    "    dist = np.sqrt(np.sum((p1-p2)**2))\n",
    "    return dist"
   ]
  },
  {
   "cell_type": "code",
   "execution_count": 61,
   "id": "bd689182",
   "metadata": {},
   "outputs": [],
   "source": [
    " #Function to calculate KNN\n",
    "def knn_predict(x_train, y , x_input, k):\n",
    "    op_labels = []\n",
    "     \n",
    "    #Loop through the Datapoints to be classified\n",
    "    for item in x_input: \n",
    "         \n",
    "        #Array to store distances\n",
    "        point_dist = []\n",
    "         \n",
    "        #Loop through each training Data\n",
    "        for j in range(len(x_train)): \n",
    "            distances = eucledian(np.array(x_train[j,:]) , item) \n",
    "            #Calculating the distance\n",
    "            point_dist.append(distances) \n",
    "        point_dist = np.array(point_dist) \n",
    "         \n",
    "        #Sorting the array while preserving the index\n",
    "        #Keeping the first K datapoints\n",
    "        dist = np.argsort(point_dist)[:k] \n",
    "         \n",
    "        #Labels of the K datapoints from above\n",
    "        labels = y[dist]\n",
    "         \n",
    "        #Majority voting\n",
    "        lab = mode(labels) \n",
    "        lab = lab.mode[0]\n",
    "        op_labels.append(lab)\n",
    " \n",
    "    return op_labels"
   ]
  },
  {
   "cell_type": "code",
   "execution_count": 62,
   "id": "88f81d9d",
   "metadata": {},
   "outputs": [
    {
     "name": "stdout",
     "output_type": "stream",
     "text": [
      "At k = 1, the accuracy = 80.0\n",
      "At k = 2, the accuracy = 80.0\n",
      "At k = 3, the accuracy = 88.57\n",
      "At k = 4, the accuracy = 85.71\n",
      "At k = 5, the accuracy = 82.86\n",
      "At k = 6, the accuracy = 88.57\n",
      "At k = 7, the accuracy = 82.86\n",
      "At k = 8, the accuracy = 88.57\n",
      "At k = 9, the accuracy = 88.57\n",
      "At k = 10, the accuracy = 88.57\n",
      "At k = 11, the accuracy = 88.57\n",
      "At k = 12, the accuracy = 88.57\n",
      "At k = 13, the accuracy = 88.57\n",
      "At k = 14, the accuracy = 88.57\n",
      "At k = 15, the accuracy = 88.57\n",
      "At k = 16, the accuracy = 88.57\n",
      "At k = 17, the accuracy = 88.57\n",
      "At k = 18, the accuracy = 88.57\n",
      "At k = 19, the accuracy = 91.43\n",
      "At k = 20, the accuracy = 91.43\n",
      "At k = 21, the accuracy = 94.29\n",
      "At k = 22, the accuracy = 94.29\n",
      "At k = 23, the accuracy = 94.29\n",
      "At k = 24, the accuracy = 94.29\n"
     ]
    }
   ],
   "source": [
    "k_values = range(1, 25)\n",
    "for k in k_values:\n",
    "    y_pred = knn_predict(x_train,y_train,x_test , k)\n",
    "    acc = round(calculate_accuracy(y_test, y_pred)*100, 2)\n",
    "    print(f\"At k = {k}, the accuracy = {acc}\")"
   ]
  },
  {
   "cell_type": "code",
   "execution_count": 63,
   "id": "5c26d231",
   "metadata": {
    "scrolled": true
   },
   "outputs": [
    {
     "data": {
      "text/plain": [
       "array([0, 1, 0, 1, 0, 1, 1, 0, 1, 1, 0, 0, 1, 1, 0, 1, 1, 1, 0, 0, 1, 1,\n",
       "       1, 1, 1, 1, 0, 0, 0, 1, 1, 0, 1, 1, 0])"
      ]
     },
     "execution_count": 63,
     "metadata": {},
     "output_type": "execute_result"
    }
   ],
   "source": [
    "y_test"
   ]
  },
  {
   "cell_type": "code",
   "execution_count": 64,
   "id": "890de3b9",
   "metadata": {
    "scrolled": true
   },
   "outputs": [],
   "source": [
    "y_pred = knn_predict(x_train,y_train,x_test , 9)\n"
   ]
  },
  {
   "cell_type": "code",
   "execution_count": 65,
   "id": "1e2b7b54",
   "metadata": {},
   "outputs": [],
   "source": [
    "y_pred_sc = knn_predict(x_train_sc,y_train,x_test_sc , 4)\n"
   ]
  },
  {
   "cell_type": "markdown",
   "id": "1c7f94b2",
   "metadata": {},
   "source": [
    "### With scaling"
   ]
  },
  {
   "cell_type": "code",
   "execution_count": 66,
   "id": "e6853b5c",
   "metadata": {},
   "outputs": [
    {
     "name": "stdout",
     "output_type": "stream",
     "text": [
      "The Accuracy: 85.71\n",
      "The Precision: 0.90\n",
      "The Recall: 0.86\n",
      "The F1 Score: 0.88\n"
     ]
    }
   ],
   "source": [
    "y_pred_sc_array=np.array(y_pred_sc)\n",
    "\n",
    "acc_scalled_scratch = calculate_accuracy(y_test, y_pred_sc_array)\n",
    "prec_scalled_scratch = calculate_precision(y_test, y_pred_sc_array)\n",
    "rec_scalled_scratch = calculate_recall(y_test, y_pred_sc_array)\n",
    "f1_scalled_scratch = calculate_f1_score(y_test, y_pred_sc_array)\n",
    "\n",
    "print(f'The Accuracy: {acc_scalled_scratch * 100:.2f}')\n",
    "print(f'The Precision: {prec_scalled_scratch:.2f}')\n",
    "print(f'The Recall: {rec_scalled_scratch:.2f}')\n",
    "print(f'The F1 Score: {f1_scalled_scratch:.2f}')"
   ]
  },
  {
   "cell_type": "code",
   "execution_count": 67,
   "id": "44d4286c",
   "metadata": {},
   "outputs": [
    {
     "data": {
      "text/plain": [
       "array([[12,  2],\n",
       "       [ 3, 18]])"
      ]
     },
     "execution_count": 67,
     "metadata": {},
     "output_type": "execute_result"
    }
   ],
   "source": [
    "cm_implemented= Implement_confusion_matrix(y_test, y_pred_sc_array)\n",
    "cm_implemented"
   ]
  },
  {
   "cell_type": "code",
   "execution_count": 68,
   "id": "44055661",
   "metadata": {},
   "outputs": [
    {
     "data": {
      "image/png": "[encoded data removed]",
      "text/plain": [
       "<Figure size 432x288 with 2 Axes>"
      ]
     },
     "metadata": {},
     "output_type": "display_data"
    }
   ],
   "source": [
    "cmatrix_scratch(cm_implemented,\"knn\", \"Blues\")"
   ]
  },
  {
   "cell_type": "markdown",
   "id": "5012e6ee",
   "metadata": {},
   "source": [
    "## Without Scaling"
   ]
  },
  {
   "cell_type": "code",
   "execution_count": 69,
   "id": "30701320",
   "metadata": {},
   "outputs": [],
   "source": [
    "y_pred_array=np.array(y_pred)"
   ]
  },
  {
   "cell_type": "code",
   "execution_count": 70,
   "id": "33b986b3",
   "metadata": {},
   "outputs": [
    {
     "name": "stdout",
     "output_type": "stream",
     "text": [
      "The Accuracy: 88.5714\n",
      "The Precision: 0.9048\n",
      "The Recall: 0.9048\n",
      "The F1 Score: 0.9048\n"
     ]
    }
   ],
   "source": [
    "acc_scratch = calculate_accuracy(y_test, y_pred_array)\n",
    "prec_scratch = calculate_precision(y_test, y_pred_array)\n",
    "rec_scratch = calculate_recall(y_test, y_pred_array)\n",
    "f1_scratch = calculate_f1_score(y_test, y_pred_array)\n",
    "\n",
    "print(f'The Accuracy: {acc_scratch * 100:.4f}')\n",
    "print(f'The Precision: {prec_scratch:.4f}')\n",
    "print(f'The Recall: {rec_scratch:.4f}')\n",
    "print(f'The F1 Score: {f1_scratch:.4f}')"
   ]
  },
  {
   "cell_type": "code",
   "execution_count": 71,
   "id": "29d868e7",
   "metadata": {},
   "outputs": [
    {
     "data": {
      "text/plain": [
       "array([[12,  2],\n",
       "       [ 2, 19]])"
      ]
     },
     "execution_count": 71,
     "metadata": {},
     "output_type": "execute_result"
    }
   ],
   "source": [
    "###plot confusion matrix here\n",
    "cm_implemented2= Implement_confusion_matrix(y_test, y_pred_array)\n",
    "cm_implemented2"
   ]
  },
  {
   "cell_type": "code",
   "execution_count": 72,
   "id": "afb939a4",
   "metadata": {},
   "outputs": [
    {
     "data": {
      "image/png": "[encoded data removed]",
      "text/plain": [
       "<Figure size 432x288 with 2 Axes>"
      ]
     },
     "metadata": {},
     "output_type": "display_data"
    }
   ],
   "source": [
    "cmatrix_scratch(cm_implemented2,\"knn without scaling\", \"Blues\")"
   ]
  },
  {
   "cell_type": "markdown",
   "id": "a2ff67ca",
   "metadata": {},
   "source": [
    "### KNN from SKlearn"
   ]
  },
  {
   "cell_type": "code",
   "execution_count": 73,
   "id": "bb24b84a",
   "metadata": {},
   "outputs": [],
   "source": [
    "from sklearn.neighbors import KNeighborsClassifier\n",
    "knn_classifier = KNeighborsClassifier(n_neighbors=7)\n",
    "\n",
    "# Train the model\n",
    "knn_classifier.fit(x_train, y_train)\n",
    "\n",
    "# Make predictions on the test set\n",
    "Y_pred_knn_buildin = knn_classifier.predict(x_test)"
   ]
  },
  {
   "cell_type": "code",
   "execution_count": 74,
   "id": "f5358ec7",
   "metadata": {},
   "outputs": [
    {
     "data": {
      "text/plain": [
       "array([0, 1, 0, 1, 0, 1, 1, 1, 1, 1, 0, 1, 1, 0, 0, 1, 1, 1, 1, 0, 1, 1,\n",
       "       1, 0, 1, 1, 0, 0, 0, 1, 1, 0, 0, 1, 0])"
      ]
     },
     "execution_count": 74,
     "metadata": {},
     "output_type": "execute_result"
    }
   ],
   "source": [
    "Y_pred_knn_buildin"
   ]
  },
  {
   "cell_type": "code",
   "execution_count": 75,
   "id": "59e1b999",
   "metadata": {},
   "outputs": [
    {
     "data": {
      "text/plain": [
       "array([0, 1, 0, 1, 0, 1, 1, 0, 1, 1, 0, 0, 1, 1, 0, 1, 1, 1, 0, 0, 1, 1,\n",
       "       1, 1, 1, 1, 0, 0, 0, 1, 1, 0, 1, 1, 0])"
      ]
     },
     "execution_count": 75,
     "metadata": {},
     "output_type": "execute_result"
    }
   ],
   "source": [
    "y_test"
   ]
  },
  {
   "cell_type": "code",
   "execution_count": 76,
   "id": "2ec5191c",
   "metadata": {},
   "outputs": [
    {
     "name": "stdout",
     "output_type": "stream",
     "text": [
      "The Accuracy: 82.8571\n",
      "The Precision: 0.8571\n",
      "The Recall: 0.8571\n",
      "The F1 Score: 0.8571\n"
     ]
    }
   ],
   "source": [
    "acc_buildin = calculate_accuracy(y_test, Y_pred_knn_buildin)\n",
    "prec_buildin = calculate_precision(y_test, Y_pred_knn_buildin)\n",
    "rec_buildin = calculate_recall(y_test, Y_pred_knn_buildin)\n",
    "f1_buildin = calculate_f1_score(y_test, Y_pred_knn_buildin)\n",
    "\n",
    "print(f'The Accuracy: {acc_buildin * 100:.4f}')\n",
    "print(f'The Precision: {prec_buildin:.4f}')\n",
    "print(f'The Recall: {rec_buildin:.4f}')\n",
    "print(f'The F1 Score: {f1_buildin:.4f}')"
   ]
  },
  {
   "cell_type": "code",
   "execution_count": 77,
   "id": "c1a32fba",
   "metadata": {},
   "outputs": [
    {
     "data": {
      "text/plain": [
       "array([[11,  3],\n",
       "       [ 3, 18]])"
      ]
     },
     "execution_count": 77,
     "metadata": {},
     "output_type": "execute_result"
    }
   ],
   "source": [
    "###plot confusion matrix here\n",
    "cm_implemented3= Implement_confusion_matrix(y_test, Y_pred_knn_buildin)\n",
    "cm_implemented3\n"
   ]
  },
  {
   "cell_type": "code",
   "execution_count": 78,
   "id": "cd6b3e28",
   "metadata": {},
   "outputs": [
    {
     "data": {
      "image/png": "[encoded data removed]",
      "text/plain": [
       "<Figure size 432x288 with 2 Axes>"
      ]
     },
     "metadata": {},
     "output_type": "display_data"
    }
   ],
   "source": [
    "cmatrix_scratch(cm_implemented3,\"knn buildin\", \"Blues\")"
   ]
  },
  {
   "cell_type": "markdown",
   "id": "2eaae807",
   "metadata": {},
   "source": [
    "### RNN from scratch"
   ]
  },
  {
   "cell_type": "code",
   "execution_count": 79,
   "id": "620c2ef8",
   "metadata": {},
   "outputs": [],
   "source": [
    "# Function to make predictions using the Radius Nearest Neighbors model\n",
    "def predict_radius_nn_model(X_test, X_train, Y_train, r):\n",
    "    # get the shape of x_test to form y_predict \n",
    "    Y_predict = []\n",
    "    m_test, n_test = X_test.shape\n",
    "    \n",
    "    # Iterate through each test sample\n",
    "    for i in range(m_test):\n",
    "        x = X_test[i]\n",
    "        \n",
    "        # Find neighbors within the radius for the current test sample\n",
    "        neighbors = find_neighbors(x, X_train, Y_train, r)\n",
    "        \n",
    "        # Use the mode (most common class) as the predicted class for the test sample\n",
    "        Y_predict.append(mode(neighbors)[0][0])\n",
    "    \n",
    "    return Y_predict\n",
    "\n",
    "# Function to find neighbors within a fixed radius r\n",
    "def find_neighbors(x, X_train, Y_train, r):\n",
    "    inside_radius = []\n",
    "    length = len(X_train)\n",
    "    \n",
    "    # Iterate through each sample in the training set\n",
    "    for i in range(length):\n",
    "        # Calculate the Euclidean distance between the current test sample and the training sample\n",
    "        distance = eucledian(x, X_train[i])\n",
    "        \n",
    "        # Check if the distance is within the specified radius\n",
    "        if distance <= r:\n",
    "            inside_radius.append(Y_train[i])\n",
    "    \n",
    "    # Convert the list of labels inside the radius to a NumPy array\n",
    "    inside_region_array = np.array(inside_radius)\n",
    "    return inside_region_array\n",
    "\n"
   ]
  },
  {
   "cell_type": "code",
   "execution_count": 80,
   "id": "d3b0a84a",
   "metadata": {},
   "outputs": [
    {
     "name": "stdout",
     "output_type": "stream",
     "text": [
      "At r = 3, the accuracy = 88.57\n",
      "At r = 4, the accuracy = 88.57\n",
      "At r = 5, the accuracy = 88.57\n",
      "At r = 6, the accuracy = 88.57\n",
      "At r = 7, the accuracy = 88.57\n",
      "At r = 8, the accuracy = 88.57\n",
      "At r = 9, the accuracy = 88.57\n"
     ]
    }
   ],
   "source": [
    "r_values = range(3, 10)\n",
    "for r in r_values:\n",
    "    Y_pred = predict_radius_nn_model(x_test_sc, x_train_sc, y_train, r=r)\n",
    "    acc = round(calculate_accuracy(y_test, y_pred)*100, 2)\n",
    "    print(f\"At r = {r}, the accuracy = {acc}\")"
   ]
  },
  {
   "cell_type": "code",
   "execution_count": 81,
   "id": "cce98722",
   "metadata": {},
   "outputs": [],
   "source": [
    "# Make predictions on the test set\n",
    "Y_pred2 = predict_radius_nn_model(x_test_sc, x_train_sc, y_train, r=3)\n"
   ]
  },
  {
   "cell_type": "code",
   "execution_count": 82,
   "id": "fac5c911",
   "metadata": {},
   "outputs": [
    {
     "data": {
      "text/plain": [
       "array([0, 1, 0, 1, 0, 1, 1, 0, 1, 1, 0, 0, 1, 1, 0, 1, 1, 1, 0, 0, 1, 1,\n",
       "       1, 1, 1, 1, 0, 0, 0, 1, 1, 0, 1, 1, 0])"
      ]
     },
     "execution_count": 82,
     "metadata": {},
     "output_type": "execute_result"
    }
   ],
   "source": [
    "y_test"
   ]
  },
  {
   "cell_type": "code",
   "execution_count": 83,
   "id": "71a5b25e",
   "metadata": {},
   "outputs": [
    {
     "name": "stdout",
     "output_type": "stream",
     "text": [
      "The Accuracy: 82.8571\n",
      "The Precision: 0.8571\n",
      "The Recall: 0.8571\n",
      "The F1 Score: 0.8571\n"
     ]
    }
   ],
   "source": [
    "y_pred2_array=np.array(Y_pred2)\n",
    "\n",
    "acc_rnn_scratch = calculate_accuracy(y_test, y_pred2_array)\n",
    "prec_rnn_scratch = calculate_precision(y_test, y_pred2_array)\n",
    "rec_rnn_scratch = calculate_recall(y_test, y_pred2_array)\n",
    "f1_rnn_scratch = calculate_f1_score(y_test, y_pred2_array)\n",
    "\n",
    "print(f'The Accuracy: {acc_rnn_scratch * 100:.4f}')\n",
    "print(f'The Precision: {prec_rnn_scratch:.4f}')\n",
    "print(f'The Recall: {rec_rnn_scratch:.4f}')\n",
    "print(f'The F1 Score: {f1_rnn_scratch:.4f}')"
   ]
  },
  {
   "cell_type": "code",
   "execution_count": 84,
   "id": "f834e654",
   "metadata": {},
   "outputs": [
    {
     "data": {
      "text/plain": [
       "array([[11,  3],\n",
       "       [ 3, 18]])"
      ]
     },
     "execution_count": 84,
     "metadata": {},
     "output_type": "execute_result"
    }
   ],
   "source": [
    "###plot confusion matrix here\n",
    "cm_implemented4= Implement_confusion_matrix(y_test, y_pred2_array)\n",
    "cm_implemented4\n"
   ]
  },
  {
   "cell_type": "code",
   "execution_count": 85,
   "id": "813c3d73",
   "metadata": {},
   "outputs": [
    {
     "data": {
      "image/png": "[encoded data removed]",
      "text/plain": [
       "<Figure size 432x288 with 2 Axes>"
      ]
     },
     "metadata": {},
     "output_type": "display_data"
    }
   ],
   "source": [
    "cmatrix_scratch(cm_implemented4,\"rnn scratch\", \"Blues\")"
   ]
  },
  {
   "cell_type": "markdown",
   "id": "5ed066da",
   "metadata": {},
   "source": [
    "### SKlearn Radius neighbors classifiers"
   ]
  },
  {
   "cell_type": "code",
   "execution_count": 86,
   "id": "eea13f5c",
   "metadata": {},
   "outputs": [],
   "source": [
    "from sklearn.neighbors import RadiusNeighborsClassifier\n",
    "radius_nn_classifier = RadiusNeighborsClassifier(radius=10)\n",
    "\n",
    "# Train the model\n",
    "radius_nn_classifier.fit(x_train_sc, y_train)\n",
    "\n",
    "# Make predictions on the test set\n",
    "Y_pred_rnn_buildin = radius_nn_classifier.predict(x_test_sc)"
   ]
  },
  {
   "cell_type": "code",
   "execution_count": 87,
   "id": "5a083dd6",
   "metadata": {},
   "outputs": [
    {
     "name": "stdout",
     "output_type": "stream",
     "text": [
      "The Accuracy: 60.0000\n",
      "The Precision: 0.6000\n",
      "The Recall: 1.0000\n",
      "The F1 Score: 0.7500\n"
     ]
    }
   ],
   "source": [
    "Y_pred_rnn_buildin_array=np.array(Y_pred_rnn_buildin)\n",
    "\n",
    "acc_rnn_buildin = calculate_accuracy(y_test, Y_pred_rnn_buildin_array)\n",
    "prec_rnn_buildin = calculate_precision(y_test, Y_pred_rnn_buildin_array)\n",
    "rec_rnn_buildin = calculate_recall(y_test, Y_pred_rnn_buildin_array)\n",
    "f1_rnn_buildin = calculate_f1_score(y_test, Y_pred_rnn_buildin_array)\n",
    "\n",
    "print(f'The Accuracy: {acc_rnn_buildin * 100:.4f}')\n",
    "print(f'The Precision: {prec_rnn_buildin:.4f}')\n",
    "print(f'The Recall: {rec_rnn_buildin:.4f}')\n",
    "print(f'The F1 Score: {f1_rnn_buildin:.4f}')"
   ]
  },
  {
   "cell_type": "code",
   "execution_count": 89,
   "id": "42ab1d18",
   "metadata": {},
   "outputs": [
    {
     "name": "stdout",
     "output_type": "stream",
     "text": [
      "The Classification report:\n",
      "               precision    recall  f1-score   support\n",
      "\n",
      "           0       0.00      0.00      0.00        14\n",
      "           1       0.60      1.00      0.75        21\n",
      "\n",
      "    accuracy                           0.60        35\n",
      "   macro avg       0.30      0.50      0.37        35\n",
      "weighted avg       0.36      0.60      0.45        35\n",
      "\n"
     ]
    }
   ],
   "source": [
    "from sklearn.metrics import classification_report\n",
    "rnn_report = classification_report(y_test, Y_pred_rnn_buildin)\n",
    "print(\"The Classification report:\\n\", rnn_report)"
   ]
  },
  {
   "cell_type": "code",
   "execution_count": 90,
   "id": "abffef24",
   "metadata": {},
   "outputs": [
    {
     "data": {
      "text/plain": [
       "array([[ 0, 14],\n",
       "       [ 0, 21]])"
      ]
     },
     "execution_count": 90,
     "metadata": {},
     "output_type": "execute_result"
    }
   ],
   "source": [
    "cm_implemented5= Implement_confusion_matrix(y_test, Y_pred_rnn_buildin_array)\n",
    "cm_implemented5"
   ]
  },
  {
   "cell_type": "code",
   "execution_count": 91,
   "id": "48804ef5",
   "metadata": {},
   "outputs": [
    {
     "data": {
      "image/png": "[encoded data removed]",
      "text/plain": [
       "<Figure size 432x288 with 2 Axes>"
      ]
     },
     "metadata": {},
     "output_type": "display_data"
    }
   ],
   "source": [
    "cmatrix_scratch(cm_implemented5,\"rnn scratch\", \"Blues\")"
   ]
  },
  {
   "cell_type": "markdown",
   "id": "acd1292f",
   "metadata": {},
   "source": [
    "# Evaluation:"
   ]
  },
  {
   "cell_type": "code",
   "execution_count": 92,
   "id": "5d6510b4",
   "metadata": {},
   "outputs": [],
   "source": [
    "# scratch scalled vs buildin\n",
    "knn_table_scalled = PrettyTable()\n",
    "knn_table_scalled.field_names = [\"Metric\", \"KNN scratch\", \"KNN SKlearn\"]\n",
    "# Add data to the table\n",
    "knn_table_scalled.add_row([\"Accuracy\", acc_scalled_scratch, acc_buildin])\n",
    "knn_table_scalled.add_row([\"Precision\", prec_scalled_scratch, prec_buildin])\n",
    "knn_table_scalled.add_row([\"Recall\", rec_scalled_scratch, rec_buildin])\n",
    "knn_table_scalled.add_row([\"F1 score\", f1_scalled_scratch, f1_buildin])\n"
   ]
  },
  {
   "cell_type": "code",
   "execution_count": 93,
   "id": "684930d6",
   "metadata": {},
   "outputs": [
    {
     "data": {
      "text/html": [
       "<table>\n",
       "    <thead>\n",
       "        <tr>\n",
       "            <th>Metric</th>\n",
       "            <th>KNN scratch</th>\n",
       "            <th>KNN SKlearn</th>\n",
       "        </tr>\n",
       "    </thead>\n",
       "    <tbody>\n",
       "        <tr>\n",
       "            <td>Accuracy</td>\n",
       "            <td>0.8571428571428571</td>\n",
       "            <td>0.8285714285714286</td>\n",
       "        </tr>\n",
       "        <tr>\n",
       "            <td>Precision</td>\n",
       "            <td>0.9</td>\n",
       "            <td>0.8571428571428571</td>\n",
       "        </tr>\n",
       "        <tr>\n",
       "            <td>Recall</td>\n",
       "            <td>0.8571428571428571</td>\n",
       "            <td>0.8571428571428571</td>\n",
       "        </tr>\n",
       "        <tr>\n",
       "            <td>F1 score</td>\n",
       "            <td>0.8780487804878048</td>\n",
       "            <td>0.8571428571428571</td>\n",
       "        </tr>\n",
       "    </tbody>\n",
       "</table>"
      ],
      "text/plain": [
       "+-----------+--------------------+--------------------+\n",
       "|   Metric  |    KNN scratch     |    KNN SKlearn     |\n",
       "+-----------+--------------------+--------------------+\n",
       "|  Accuracy | 0.8571428571428571 | 0.8285714285714286 |\n",
       "| Precision |        0.9         | 0.8571428571428571 |\n",
       "|   Recall  | 0.8571428571428571 | 0.8571428571428571 |\n",
       "|  F1 score | 0.8780487804878048 | 0.8571428571428571 |\n",
       "+-----------+--------------------+--------------------+"
      ]
     },
     "execution_count": 93,
     "metadata": {},
     "output_type": "execute_result"
    }
   ],
   "source": [
    "knn_table_scalled"
   ]
  },
  {
   "cell_type": "code",
   "execution_count": 94,
   "id": "bc38934d",
   "metadata": {},
   "outputs": [],
   "source": [
    "# scratch  vs buildin\n",
    "knn_table = PrettyTable()\n",
    "knn_table.field_names = [\"Metric\", \"KNN scratch\", \"KNN SKlearn\"]\n",
    "# Add data to the table\n",
    "knn_table.add_row([\"Accuracy\", f1_scratch, acc_buildin])\n",
    "knn_table.add_row([\"Precision\", prec_scratch, prec_buildin])\n",
    "knn_table.add_row([\"Recall\", rec_scratch, rec_buildin])\n",
    "knn_table.add_row([\"F1 score\", f1_scratch, f1_buildin])\n"
   ]
  },
  {
   "cell_type": "code",
   "execution_count": 95,
   "id": "5151aeb1",
   "metadata": {},
   "outputs": [
    {
     "data": {
      "text/html": [
       "<table>\n",
       "    <thead>\n",
       "        <tr>\n",
       "            <th>Metric</th>\n",
       "            <th>KNN scratch</th>\n",
       "            <th>KNN SKlearn</th>\n",
       "        </tr>\n",
       "    </thead>\n",
       "    <tbody>\n",
       "        <tr>\n",
       "            <td>Accuracy</td>\n",
       "            <td>0.9047619047619048</td>\n",
       "            <td>0.8285714285714286</td>\n",
       "        </tr>\n",
       "        <tr>\n",
       "            <td>Precision</td>\n",
       "            <td>0.9047619047619048</td>\n",
       "            <td>0.8571428571428571</td>\n",
       "        </tr>\n",
       "        <tr>\n",
       "            <td>Recall</td>\n",
       "            <td>0.9047619047619048</td>\n",
       "            <td>0.8571428571428571</td>\n",
       "        </tr>\n",
       "        <tr>\n",
       "            <td>F1 score</td>\n",
       "            <td>0.9047619047619048</td>\n",
       "            <td>0.8571428571428571</td>\n",
       "        </tr>\n",
       "    </tbody>\n",
       "</table>"
      ],
      "text/plain": [
       "+-----------+--------------------+--------------------+\n",
       "|   Metric  |    KNN scratch     |    KNN SKlearn     |\n",
       "+-----------+--------------------+--------------------+\n",
       "|  Accuracy | 0.9047619047619048 | 0.8285714285714286 |\n",
       "| Precision | 0.9047619047619048 | 0.8571428571428571 |\n",
       "|   Recall  | 0.9047619047619048 | 0.8571428571428571 |\n",
       "|  F1 score | 0.9047619047619048 | 0.8571428571428571 |\n",
       "+-----------+--------------------+--------------------+"
      ]
     },
     "execution_count": 95,
     "metadata": {},
     "output_type": "execute_result"
    }
   ],
   "source": [
    "knn_table"
   ]
  },
  {
   "cell_type": "code",
   "execution_count": 96,
   "id": "d47dc2f3",
   "metadata": {},
   "outputs": [],
   "source": [
    "rnn_table = PrettyTable()\n",
    "rnn_table.field_names = [\"Metric\", \"RNN scratch\", \"RNN SKlearn\"]\n",
    "# Add data to the table\n",
    "rnn_table.add_row([\"Accuracy\", acc_rnn_scratch, acc_rnn_buildin])\n",
    "rnn_table.add_row([\"Precision\", prec_rnn_scratch, prec_rnn_buildin])\n",
    "rnn_table.add_row([\"Recall\", rec_rnn_scratch, rec_rnn_buildin])\n",
    "rnn_table.add_row([\"F1 score\", f1_rnn_scratch, f1_rnn_buildin])"
   ]
  },
  {
   "cell_type": "code",
   "execution_count": 97,
   "id": "5062398e",
   "metadata": {},
   "outputs": [
    {
     "data": {
      "text/html": [
       "<table>\n",
       "    <thead>\n",
       "        <tr>\n",
       "            <th>Metric</th>\n",
       "            <th>RNN scratch</th>\n",
       "            <th>RNN SKlearn</th>\n",
       "        </tr>\n",
       "    </thead>\n",
       "    <tbody>\n",
       "        <tr>\n",
       "            <td>Accuracy</td>\n",
       "            <td>0.8285714285714286</td>\n",
       "            <td>0.6</td>\n",
       "        </tr>\n",
       "        <tr>\n",
       "            <td>Precision</td>\n",
       "            <td>0.8571428571428571</td>\n",
       "            <td>0.6</td>\n",
       "        </tr>\n",
       "        <tr>\n",
       "            <td>Recall</td>\n",
       "            <td>0.8571428571428571</td>\n",
       "            <td>1.0</td>\n",
       "        </tr>\n",
       "        <tr>\n",
       "            <td>F1 score</td>\n",
       "            <td>0.8571428571428571</td>\n",
       "            <td>0.7499999999999999</td>\n",
       "        </tr>\n",
       "    </tbody>\n",
       "</table>"
      ],
      "text/plain": [
       "+-----------+--------------------+--------------------+\n",
       "|   Metric  |    RNN scratch     |    RNN SKlearn     |\n",
       "+-----------+--------------------+--------------------+\n",
       "|  Accuracy | 0.8285714285714286 |        0.6         |\n",
       "| Precision | 0.8571428571428571 |        0.6         |\n",
       "|   Recall  | 0.8571428571428571 |        1.0         |\n",
       "|  F1 score | 0.8571428571428571 | 0.7499999999999999 |\n",
       "+-----------+--------------------+--------------------+"
      ]
     },
     "execution_count": 97,
     "metadata": {},
     "output_type": "execute_result"
    }
   ],
   "source": [
    "rnn_table"
   ]
  },
  {
   "cell_type": "code",
   "execution_count": null,
   "id": "6a5aeea0",
   "metadata": {},
   "outputs": [],
   "source": []
  }
 ],
 "metadata": {
  "kernelspec": {
   "display_name": "Python 3 (ipykernel)",
   "language": "python",
   "name": "python3"
  },
  "language_info": {
   "codemirror_mode": {
    "name": "ipython",
    "version": 3
   },
   "file_extension": ".py",
   "mimetype": "text/x-python",
   "name": "python",
   "nbconvert_exporter": "python",
   "pygments_lexer": "ipython3",
   "version": "3.9.12"
  }
 },
 "nbformat": 4,
 "nbformat_minor": 5
}
